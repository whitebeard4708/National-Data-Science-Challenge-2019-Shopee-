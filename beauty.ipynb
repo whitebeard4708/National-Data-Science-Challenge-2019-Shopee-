{
  "nbformat": 4,
  "nbformat_minor": 0,
  "metadata": {
    "colab": {
      "name": "beauty.ipynb",
      "version": "0.3.2",
      "provenance": [],
      "collapsed_sections": []
    },
    "kernelspec": {
      "name": "python3",
      "display_name": "Python 3"
    }
  },
  "cells": [
    {
      "metadata": {
        "id": "SaSlziKT0-3v",
        "colab_type": "code",
        "outputId": "79646287-cc93-45b2-9659-04d45440c250",
        "colab": {
          "base_uri": "https://localhost:8080/",
          "height": 1611
        }
      },
      "cell_type": "code",
      "source": [
        "from google.colab import drive\n",
        "drive.mount('/content/gdrive')"
      ],
      "execution_count": 0,
      "outputs": [
        {
          "output_type": "stream",
          "text": [
            "Go to this URL in a browser: https://accounts.google.com/o/oauth2/auth?client_id=947318989803-6bn6qk8qdgf4n4g3pfee6491hc0brc4i.apps.googleusercontent.com&redirect_uri=urn%3Aietf%3Awg%3Aoauth%3A2.0%3Aoob&scope=email%20https%3A%2F%2Fwww.googleapis.com%2Fauth%2Fdocs.test%20https%3A%2F%2Fwww.googleapis.com%2Fauth%2Fdrive%20https%3A%2F%2Fwww.googleapis.com%2Fauth%2Fdrive.photos.readonly%20https%3A%2F%2Fwww.googleapis.com%2Fauth%2Fpeopleapi.readonly&response_type=code\n",
            "\n",
            "Enter your authorization code:\n",
            "··········\n"
          ],
          "name": "stdout"
        },
        {
          "output_type": "error",
          "ename": "TIMEOUT",
          "evalue": "ignored",
          "traceback": [
            "\u001b[0;31m---------------------------------------------------------------------------\u001b[0m",
            "\u001b[0;31mTIMEOUT\u001b[0m                                   Traceback (most recent call last)",
            "\u001b[0;32m/usr/local/lib/python3.6/dist-packages/pexpect/expect.py\u001b[0m in \u001b[0;36mexpect_loop\u001b[0;34m(self, timeout)\u001b[0m\n\u001b[1;32m    110\u001b[0m                 \u001b[0;31m# Still have time left, so read more data\u001b[0m\u001b[0;34m\u001b[0m\u001b[0;34m\u001b[0m\u001b[0;34m\u001b[0m\u001b[0m\n\u001b[0;32m--> 111\u001b[0;31m                 \u001b[0mincoming\u001b[0m \u001b[0;34m=\u001b[0m \u001b[0mspawn\u001b[0m\u001b[0;34m.\u001b[0m\u001b[0mread_nonblocking\u001b[0m\u001b[0;34m(\u001b[0m\u001b[0mspawn\u001b[0m\u001b[0;34m.\u001b[0m\u001b[0mmaxread\u001b[0m\u001b[0;34m,\u001b[0m \u001b[0mtimeout\u001b[0m\u001b[0;34m)\u001b[0m\u001b[0;34m\u001b[0m\u001b[0;34m\u001b[0m\u001b[0m\n\u001b[0m\u001b[1;32m    112\u001b[0m                 \u001b[0;32mif\u001b[0m \u001b[0mself\u001b[0m\u001b[0;34m.\u001b[0m\u001b[0mspawn\u001b[0m\u001b[0;34m.\u001b[0m\u001b[0mdelayafterread\u001b[0m \u001b[0;32mis\u001b[0m \u001b[0;32mnot\u001b[0m \u001b[0;32mNone\u001b[0m\u001b[0;34m:\u001b[0m\u001b[0;34m\u001b[0m\u001b[0;34m\u001b[0m\u001b[0m\n",
            "\u001b[0;32m/usr/local/lib/python3.6/dist-packages/pexpect/pty_spawn.py\u001b[0m in \u001b[0;36mread_nonblocking\u001b[0;34m(self, size, timeout)\u001b[0m\n\u001b[1;32m    481\u001b[0m             \u001b[0;32melse\u001b[0m\u001b[0;34m:\u001b[0m\u001b[0;34m\u001b[0m\u001b[0;34m\u001b[0m\u001b[0m\n\u001b[0;32m--> 482\u001b[0;31m                 \u001b[0;32mraise\u001b[0m \u001b[0mTIMEOUT\u001b[0m\u001b[0;34m(\u001b[0m\u001b[0;34m'Timeout exceeded.'\u001b[0m\u001b[0;34m)\u001b[0m\u001b[0;34m\u001b[0m\u001b[0;34m\u001b[0m\u001b[0m\n\u001b[0m\u001b[1;32m    483\u001b[0m \u001b[0;34m\u001b[0m\u001b[0m\n",
            "\u001b[0;31mTIMEOUT\u001b[0m: Timeout exceeded.",
            "\nDuring handling of the above exception, another exception occurred:\n",
            "\u001b[0;31mTIMEOUT\u001b[0m                                   Traceback (most recent call last)",
            "\u001b[0;32m<ipython-input-1-4996ee3d8d09>\u001b[0m in \u001b[0;36m<module>\u001b[0;34m()\u001b[0m\n\u001b[1;32m      1\u001b[0m \u001b[0;32mfrom\u001b[0m \u001b[0mgoogle\u001b[0m\u001b[0;34m.\u001b[0m\u001b[0mcolab\u001b[0m \u001b[0;32mimport\u001b[0m \u001b[0mdrive\u001b[0m\u001b[0;34m\u001b[0m\u001b[0;34m\u001b[0m\u001b[0m\n\u001b[0;32m----> 2\u001b[0;31m \u001b[0mdrive\u001b[0m\u001b[0;34m.\u001b[0m\u001b[0mmount\u001b[0m\u001b[0;34m(\u001b[0m\u001b[0;34m'/content/gdrive'\u001b[0m\u001b[0;34m)\u001b[0m\u001b[0;34m\u001b[0m\u001b[0;34m\u001b[0m\u001b[0m\n\u001b[0m",
            "\u001b[0;32m/usr/local/lib/python3.6/dist-packages/google/colab/drive.py\u001b[0m in \u001b[0;36mmount\u001b[0;34m(mountpoint, force_remount, timeout_ms)\u001b[0m\n\u001b[1;32m    166\u001b[0m         \u001b[0mprompt\u001b[0m\u001b[0;34m,\u001b[0m\u001b[0;34m\u001b[0m\u001b[0;34m\u001b[0m\u001b[0m\n\u001b[1;32m    167\u001b[0m         \u001b[0m_re\u001b[0m\u001b[0;34m.\u001b[0m\u001b[0mcompile\u001b[0m\u001b[0;34m(\u001b[0m\u001b[0;34mu'(Go to this URL in a browser: https://.*)\\r\\n'\u001b[0m\u001b[0;34m)\u001b[0m\u001b[0;34m,\u001b[0m\u001b[0;34m\u001b[0m\u001b[0;34m\u001b[0m\u001b[0m\n\u001b[0;32m--> 168\u001b[0;31m         \u001b[0;34mu'Drive File Stream encountered a problem and has stopped'\u001b[0m\u001b[0;34m,\u001b[0m\u001b[0;34m\u001b[0m\u001b[0;34m\u001b[0m\u001b[0m\n\u001b[0m\u001b[1;32m    169\u001b[0m     ])\n\u001b[1;32m    170\u001b[0m     \u001b[0;32mif\u001b[0m \u001b[0mcase\u001b[0m \u001b[0;34m==\u001b[0m \u001b[0;36m0\u001b[0m\u001b[0;34m:\u001b[0m\u001b[0;34m\u001b[0m\u001b[0;34m\u001b[0m\u001b[0m\n",
            "\u001b[0;32m/usr/local/lib/python3.6/dist-packages/pexpect/spawnbase.py\u001b[0m in \u001b[0;36mexpect\u001b[0;34m(self, pattern, timeout, searchwindowsize, async_, **kw)\u001b[0m\n\u001b[1;32m    339\u001b[0m         \u001b[0mcompiled_pattern_list\u001b[0m \u001b[0;34m=\u001b[0m \u001b[0mself\u001b[0m\u001b[0;34m.\u001b[0m\u001b[0mcompile_pattern_list\u001b[0m\u001b[0;34m(\u001b[0m\u001b[0mpattern\u001b[0m\u001b[0;34m)\u001b[0m\u001b[0;34m\u001b[0m\u001b[0;34m\u001b[0m\u001b[0m\n\u001b[1;32m    340\u001b[0m         return self.expect_list(compiled_pattern_list,\n\u001b[0;32m--> 341\u001b[0;31m                 timeout, searchwindowsize, async_)\n\u001b[0m\u001b[1;32m    342\u001b[0m \u001b[0;34m\u001b[0m\u001b[0m\n\u001b[1;32m    343\u001b[0m     def expect_list(self, pattern_list, timeout=-1, searchwindowsize=-1,\n",
            "\u001b[0;32m/usr/local/lib/python3.6/dist-packages/pexpect/spawnbase.py\u001b[0m in \u001b[0;36mexpect_list\u001b[0;34m(self, pattern_list, timeout, searchwindowsize, async_, **kw)\u001b[0m\n\u001b[1;32m    367\u001b[0m             \u001b[0;32mreturn\u001b[0m \u001b[0mexpect_async\u001b[0m\u001b[0;34m(\u001b[0m\u001b[0mexp\u001b[0m\u001b[0;34m,\u001b[0m \u001b[0mtimeout\u001b[0m\u001b[0;34m)\u001b[0m\u001b[0;34m\u001b[0m\u001b[0;34m\u001b[0m\u001b[0m\n\u001b[1;32m    368\u001b[0m         \u001b[0;32melse\u001b[0m\u001b[0;34m:\u001b[0m\u001b[0;34m\u001b[0m\u001b[0;34m\u001b[0m\u001b[0m\n\u001b[0;32m--> 369\u001b[0;31m             \u001b[0;32mreturn\u001b[0m \u001b[0mexp\u001b[0m\u001b[0;34m.\u001b[0m\u001b[0mexpect_loop\u001b[0m\u001b[0;34m(\u001b[0m\u001b[0mtimeout\u001b[0m\u001b[0;34m)\u001b[0m\u001b[0;34m\u001b[0m\u001b[0;34m\u001b[0m\u001b[0m\n\u001b[0m\u001b[1;32m    370\u001b[0m \u001b[0;34m\u001b[0m\u001b[0m\n\u001b[1;32m    371\u001b[0m     def expect_exact(self, pattern_list, timeout=-1, searchwindowsize=-1,\n",
            "\u001b[0;32m/usr/local/lib/python3.6/dist-packages/pexpect/expect.py\u001b[0m in \u001b[0;36mexpect_loop\u001b[0;34m(self, timeout)\u001b[0m\n\u001b[1;32m    117\u001b[0m             \u001b[0;32mreturn\u001b[0m \u001b[0mself\u001b[0m\u001b[0;34m.\u001b[0m\u001b[0meof\u001b[0m\u001b[0;34m(\u001b[0m\u001b[0me\u001b[0m\u001b[0;34m)\u001b[0m\u001b[0;34m\u001b[0m\u001b[0;34m\u001b[0m\u001b[0m\n\u001b[1;32m    118\u001b[0m         \u001b[0;32mexcept\u001b[0m \u001b[0mTIMEOUT\u001b[0m \u001b[0;32mas\u001b[0m \u001b[0me\u001b[0m\u001b[0;34m:\u001b[0m\u001b[0;34m\u001b[0m\u001b[0;34m\u001b[0m\u001b[0m\n\u001b[0;32m--> 119\u001b[0;31m             \u001b[0;32mreturn\u001b[0m \u001b[0mself\u001b[0m\u001b[0;34m.\u001b[0m\u001b[0mtimeout\u001b[0m\u001b[0;34m(\u001b[0m\u001b[0me\u001b[0m\u001b[0;34m)\u001b[0m\u001b[0;34m\u001b[0m\u001b[0;34m\u001b[0m\u001b[0m\n\u001b[0m\u001b[1;32m    120\u001b[0m         \u001b[0;32mexcept\u001b[0m\u001b[0;34m:\u001b[0m\u001b[0;34m\u001b[0m\u001b[0;34m\u001b[0m\u001b[0m\n\u001b[1;32m    121\u001b[0m             \u001b[0mself\u001b[0m\u001b[0;34m.\u001b[0m\u001b[0merrored\u001b[0m\u001b[0;34m(\u001b[0m\u001b[0;34m)\u001b[0m\u001b[0;34m\u001b[0m\u001b[0;34m\u001b[0m\u001b[0m\n",
            "\u001b[0;32m/usr/local/lib/python3.6/dist-packages/pexpect/expect.py\u001b[0m in \u001b[0;36mtimeout\u001b[0;34m(self, err)\u001b[0m\n\u001b[1;32m     80\u001b[0m             \u001b[0;32mif\u001b[0m \u001b[0merr\u001b[0m \u001b[0;32mis\u001b[0m \u001b[0;32mnot\u001b[0m \u001b[0;32mNone\u001b[0m\u001b[0;34m:\u001b[0m\u001b[0;34m\u001b[0m\u001b[0;34m\u001b[0m\u001b[0m\n\u001b[1;32m     81\u001b[0m                 \u001b[0mmsg\u001b[0m \u001b[0;34m=\u001b[0m \u001b[0mstr\u001b[0m\u001b[0;34m(\u001b[0m\u001b[0merr\u001b[0m\u001b[0;34m)\u001b[0m \u001b[0;34m+\u001b[0m \u001b[0;34m'\\n'\u001b[0m \u001b[0;34m+\u001b[0m \u001b[0mmsg\u001b[0m\u001b[0;34m\u001b[0m\u001b[0;34m\u001b[0m\u001b[0m\n\u001b[0;32m---> 82\u001b[0;31m             \u001b[0;32mraise\u001b[0m \u001b[0mTIMEOUT\u001b[0m\u001b[0;34m(\u001b[0m\u001b[0mmsg\u001b[0m\u001b[0;34m)\u001b[0m\u001b[0;34m\u001b[0m\u001b[0;34m\u001b[0m\u001b[0m\n\u001b[0m\u001b[1;32m     83\u001b[0m \u001b[0;34m\u001b[0m\u001b[0m\n\u001b[1;32m     84\u001b[0m     \u001b[0;32mdef\u001b[0m \u001b[0merrored\u001b[0m\u001b[0;34m(\u001b[0m\u001b[0mself\u001b[0m\u001b[0;34m)\u001b[0m\u001b[0;34m:\u001b[0m\u001b[0;34m\u001b[0m\u001b[0;34m\u001b[0m\u001b[0m\n",
            "\u001b[0;31mTIMEOUT\u001b[0m: Timeout exceeded.\n<pexpect.pty_spawn.spawn object at 0x7fd95672c208>\ncommand: /bin/bash\nargs: [b'/bin/bash', b'--noediting']\nbuffer (last 100 chars): '-22T16:51:56.807ZI [139969141491456] credential_store.cc:55:InitCredential Credential initUser: \\r\\n\\r\\n'\nbefore (last 100 chars): '-22T16:51:56.807ZI [139969141491456] credential_store.cc:55:InitCredential Credential initUser: \\r\\n\\r\\n'\nafter: <class 'pexpect.exceptions.TIMEOUT'>\nmatch: None\nmatch_index: None\nexitstatus: None\nflag_eof: False\npid: 155\nchild_fd: 60\nclosed: False\ntimeout: 120\ndelimiter: <class 'pexpect.exceptions.EOF'>\nlogfile: None\nlogfile_read: None\nlogfile_send: None\nmaxread: 1000000\nignorecase: False\nsearchwindowsize: None\ndelaybeforesend: 0.05\ndelayafterclose: 0.1\ndelayafterterminate: 0.1\nsearcher: searcher_re:\n    0: re.compile('google.colab.drive MOUNTED')\n    1: re.compile('root@5acde31b602f-a7c541c1d26f40ac9e70fcd28e1ee5de: ')\n    2: re.compile('(Go to this URL in a browser: https://.*)\\r\\n')\n    3: re.compile('Drive File Stream encountered a problem and has stopped')"
          ]
        }
      ]
    },
    {
      "metadata": {
        "id": "Rf_s8b151dlR",
        "colab_type": "code",
        "outputId": "9d743053-8527-4316-b84a-a4e65d81c564",
        "colab": {
          "base_uri": "https://localhost:8080/",
          "height": 34
        }
      },
      "cell_type": "code",
      "source": [
        "# import necessary libraries and modules\n",
        "import pandas as pd\n",
        "import numpy as np\n",
        "import tensorflow as tf\n",
        "import keras\n",
        "import json\n",
        "import seaborn as sns\n",
        "import matplotlib.pyplot as plt"
      ],
      "execution_count": 0,
      "outputs": [
        {
          "output_type": "stream",
          "text": [
            "Using TensorFlow backend.\n"
          ],
          "name": "stderr"
        }
      ]
    },
    {
      "metadata": {
        "id": "XkYpbnqb1s0h",
        "colab_type": "code",
        "outputId": "9c858f4f-c8b8-4d27-eec4-88709d7ea91c",
        "colab": {
          "base_uri": "https://localhost:8080/",
          "height": 306
        }
      },
      "cell_type": "code",
      "source": [
        "# Load json file\n",
        "with open('gdrive/My Drive/categories.json') as file:\n",
        "  data = json.load(file)"
      ],
      "execution_count": 0,
      "outputs": [
        {
          "output_type": "execute_result",
          "data": {
            "text/plain": [
              "{'BB & CC Cream': 5,\n",
              " 'Blush On': 2,\n",
              " 'Bronzer': 11,\n",
              " 'Concealer': 7,\n",
              " 'Contour': 6,\n",
              " 'Face Palette': 0,\n",
              " 'Foundation': 1,\n",
              " 'Highlighter': 8,\n",
              " 'Lip Gloss': 14,\n",
              " 'Lip Liner': 15,\n",
              " 'Lip Tint': 13,\n",
              " 'Lipstick': 12,\n",
              " 'Other Face Cosmetics': 4,\n",
              " 'Other Lip Cosmetics': 16,\n",
              " 'Powder': 3,\n",
              " 'Primer': 9,\n",
              " 'Setting Spray': 10}"
            ]
          },
          "metadata": {
            "tags": []
          },
          "execution_count": 3
        }
      ]
    },
    {
      "metadata": {
        "id": "DIg2mY8Z1PEj",
        "colab_type": "code",
        "outputId": "d6bb26e4-f509-41dc-eba3-ca960a93fa3e",
        "colab": {
          "base_uri": "https://localhost:8080/",
          "height": 221
        }
      },
      "cell_type": "code",
      "source": [
        "# Load dataset\n",
        "df = pd.read_csv('gdrive/My Drive/train.csv')\n",
        "beauty = df[df['image_path'].apply(lambda x: x.startswith('beauty'))]\n",
        "beauty.head()"
      ],
      "execution_count": 0,
      "outputs": [
        {
          "output_type": "stream",
          "text": [
            "(286583, 4)\n"
          ],
          "name": "stdout"
        },
        {
          "output_type": "execute_result",
          "data": {
            "text/html": [
              "<div>\n",
              "<style scoped>\n",
              "    .dataframe tbody tr th:only-of-type {\n",
              "        vertical-align: middle;\n",
              "    }\n",
              "\n",
              "    .dataframe tbody tr th {\n",
              "        vertical-align: top;\n",
              "    }\n",
              "\n",
              "    .dataframe thead th {\n",
              "        text-align: right;\n",
              "    }\n",
              "</style>\n",
              "<table border=\"1\" class=\"dataframe\">\n",
              "  <thead>\n",
              "    <tr style=\"text-align: right;\">\n",
              "      <th></th>\n",
              "      <th>itemid</th>\n",
              "      <th>title</th>\n",
              "      <th>Category</th>\n",
              "      <th>image_path</th>\n",
              "    </tr>\n",
              "  </thead>\n",
              "  <tbody>\n",
              "    <tr>\n",
              "      <th>0</th>\n",
              "      <td>307504</td>\n",
              "      <td>nyx sex bomb pallete natural palette</td>\n",
              "      <td>0</td>\n",
              "      <td>beauty_image/6b2e9cbb279ac95703348368aa65da09.jpg</td>\n",
              "    </tr>\n",
              "    <tr>\n",
              "      <th>1</th>\n",
              "      <td>461203</td>\n",
              "      <td>etude house precious mineral any cushion pearl...</td>\n",
              "      <td>1</td>\n",
              "      <td>beauty_image/20450222d857c9571ba8fa23bdedc8c9.jpg</td>\n",
              "    </tr>\n",
              "    <tr>\n",
              "      <th>2</th>\n",
              "      <td>3592295</td>\n",
              "      <td>milani rose powder blush</td>\n",
              "      <td>2</td>\n",
              "      <td>beauty_image/6a5962bed605a3dd6604ca3a4278a4f9.jpg</td>\n",
              "    </tr>\n",
              "    <tr>\n",
              "      <th>3</th>\n",
              "      <td>4460167</td>\n",
              "      <td>etude house baby sweet sugar powder</td>\n",
              "      <td>3</td>\n",
              "      <td>beauty_image/56987ae186e8a8e71fcc5a261ca485da.jpg</td>\n",
              "    </tr>\n",
              "    <tr>\n",
              "      <th>4</th>\n",
              "      <td>5853995</td>\n",
              "      <td>bedak revlon color stay aqua mineral make up</td>\n",
              "      <td>3</td>\n",
              "      <td>beauty_image/9c6968066ebab57588c2f757a240d8b9.jpg</td>\n",
              "    </tr>\n",
              "  </tbody>\n",
              "</table>\n",
              "</div>"
            ],
            "text/plain": [
              "    itemid                                              title  Category  \\\n",
              "0   307504               nyx sex bomb pallete natural palette         0   \n",
              "1   461203  etude house precious mineral any cushion pearl...         1   \n",
              "2  3592295                           milani rose powder blush         2   \n",
              "3  4460167                etude house baby sweet sugar powder         3   \n",
              "4  5853995       bedak revlon color stay aqua mineral make up         3   \n",
              "\n",
              "                                          image_path  \n",
              "0  beauty_image/6b2e9cbb279ac95703348368aa65da09.jpg  \n",
              "1  beauty_image/20450222d857c9571ba8fa23bdedc8c9.jpg  \n",
              "2  beauty_image/6a5962bed605a3dd6604ca3a4278a4f9.jpg  \n",
              "3  beauty_image/56987ae186e8a8e71fcc5a261ca485da.jpg  \n",
              "4  beauty_image/9c6968066ebab57588c2f757a240d8b9.jpg  "
            ]
          },
          "metadata": {
            "tags": []
          },
          "execution_count": 4
        }
      ]
    },
    {
      "metadata": {
        "id": "4yH9pdrfSkhz",
        "colab_type": "code",
        "outputId": "7d4c27db-ce85-4b02-e5d5-da1fbda2e874",
        "colab": {
          "base_uri": "https://localhost:8080/",
          "height": 521
        }
      },
      "cell_type": "code",
      "source": [
        "# Plot graph to see the numbers of each category\n",
        "beauty['Category'].value_counts().plot.bar(figsize=(20, 8))"
      ],
      "execution_count": 0,
      "outputs": [
        {
          "output_type": "execute_result",
          "data": {
            "text/plain": [
              "<matplotlib.axes._subplots.AxesSubplot at 0x7fd8e6d53ef0>"
            ]
          },
          "metadata": {
            "tags": []
          },
          "execution_count": 4
        },
        {
          "output_type": "display_data",
          "data": {
            "image/png": "[encoded data removed]",
            "text/plain": [
              "<Figure size 1440x576 with 1 Axes>"
            ]
          },
          "metadata": {
            "tags": []
          }
        }
      ]
    },
    {
      "metadata": {
        "id": "uz5TN4i8UFPJ",
        "colab_type": "code",
        "colab": {}
      },
      "cell_type": "code",
      "source": [
        "# Preprocessing titles\n",
        "import re\n",
        "def find_word(title, words):\n",
        "  test_cases = [0]*len(words)\n",
        "  for i in range(len(words)):\n",
        "    if re.search(r'\\b{}\\b'.format(words[i]), title):\n",
        "      test_cases[i] = True\n",
        "    else:\n",
        "      test_cases[i] = False\n",
        "  return all(test_cases)\n",
        "\n",
        "def find_title_words(data, words):\n",
        "  data_x = data[data['title'].apply(lambda x: find_word(x, words))]\n",
        "  return data_x\n",
        "\n",
        "\n",
        "def change_category(x, words, to_change, not_to_change):\n",
        "  lower_words = [word.lower() for word in words]\n",
        "  if x['Category'] not in not_to_change and find_word(x['title'], lower_words):\n",
        "    return to_change\n",
        "  else:\n",
        "    return x['Category']"
      ],
      "execution_count": 0,
      "outputs": []
    },
    {
      "metadata": {
        "id": "nudFGlcl8S3k",
        "colab_type": "code",
        "colab": {}
      },
      "cell_type": "code",
      "source": [
        "beauty['Category'] = beauty.apply(lambda x: change_category(x, ['spray'], 10, []), axis=1)"
      ],
      "execution_count": 0,
      "outputs": []
    },
    {
      "metadata": {
        "id": "ds_Dsk3B8dwA",
        "colab_type": "code",
        "outputId": "87aaa105-7ea7-4bef-eb54-dd395b276388",
        "colab": {
          "base_uri": "https://localhost:8080/",
          "height": 392
        }
      },
      "cell_type": "code",
      "source": [
        "d = find_title_words(beauty, ['concealer'])\n",
        "d['Category'].value_counts().plot.bar(figsize=(20,6))"
      ],
      "execution_count": 0,
      "outputs": [
        {
          "output_type": "execute_result",
          "data": {
            "text/plain": [
              "<matplotlib.axes._subplots.AxesSubplot at 0x7ffabd594b70>"
            ]
          },
          "metadata": {
            "tags": []
          },
          "execution_count": 36
        },
        {
          "output_type": "display_data",
          "data": {
            "image/png": "[encoded data removed]",
            "text/plain": [
              "<Figure size 1440x432 with 1 Axes>"
            ]
          },
          "metadata": {
            "tags": []
          }
        }
      ]
    },
    {
      "metadata": {
        "id": "zg1thCfi1PG1",
        "colab_type": "code",
        "outputId": "93afb1ec-f7b1-4faf-8d29-512a0faaee0a",
        "colab": {
          "base_uri": "https://localhost:8080/",
          "height": 374
        }
      },
      "cell_type": "code",
      "source": [
        "# See most common words in fashion df\n",
        "print('beauty items:', beauty.shape[0])\n",
        "beauty_dict= {}\n",
        "beauty_titles = beauty['title']\n",
        "for title in beauty_titles:\n",
        "  words = title.split(' ')\n",
        "  for word in words:\n",
        "    if word in beauty_dict:\n",
        "      beauty_dict[word] += 1\n",
        "    else:\n",
        "      beauty_dict[word] = 1\n",
        "      \n",
        "ordered_list = list(sorted(beauty_dict.items(), key = lambda x: x[1], reverse = True))\n",
        "# ordered_list[:40]\n",
        "\n",
        "import math\n",
        "def display_top_words(top_words):\n",
        "  rows = 10\n",
        "  cols = math.ceil(len(top_words) / 10.0)\n",
        "  a = 0\n",
        "  for row in range(rows):\n",
        "    words = top_words[row::10]\n",
        "    for word in words:\n",
        "      string = word[0] + ': ' + str(word[1])\n",
        "      print('{: >20}'.format(string), end='\\t')\n",
        "    print('\\n')\n",
        "    \n",
        "display_top_words(ordered_list[:50])"
      ],
      "execution_count": 0,
      "outputs": [
        {
          "output_type": "stream",
          "text": [
            "beauty items: 286583\n",
            "        cream: 74436\t          lip: 16630\t        house: 11815\t     concealer: 9517\t      terlaris: 8471\t\n",
            "\n",
            "       powder: 62796\t         face: 16262\t         make: 11621\t       mineral: 9494\t      lipstick: 8384\t\n",
            "\n",
            "           bb: 35959\t      natural: 15556\t         pink: 11586\t         blush: 9419\t           nyx: 8159\t\n",
            "\n",
            "      cushion: 31834\t        etude: 14096\t           pa: 11346\t       bioaqua: 9395\t      termurah: 8152\t\n",
            "\n",
            "        bedak: 25287\t        promo: 13958\t        loose: 11242\t         white: 9365\t            up: 8123\t\n",
            "\n",
            "     original: 23803\t       liquid: 13697\t         acne: 10479\t        refill: 9348\t         stick: 8038\t\n",
            "\n",
            "        matte: 21446\t        murah: 13103\t   maybelline: 10024\t          glow: 9234\t            no: 7848\t\n",
            "\n",
            "   foundation: 21100\t          the: 12462\t         light: 9937\t          skin: 8989\t            in: 7795\t\n",
            "\n",
            "          spf: 20061\t          new: 12348\t         magic: 9873\t          balm: 8690\t        diskon: 7725\t\n",
            "\n",
            "       wardah: 19296\t           cc: 11883\t     whitening: 9672\t       laneige: 8582\t         wajah: 7547\t\n",
            "\n"
          ],
          "name": "stdout"
        }
      ]
    },
    {
      "metadata": {
        "id": "TpUbl_MiiAOH",
        "colab_type": "code",
        "colab": {}
      },
      "cell_type": "code",
      "source": [
        "# Process raw titles\n",
        "import re\n",
        "\n",
        "drop_list = ['promo', 'no', 'in']\n",
        "def drop_word(x, drop_list):\n",
        "  y = re.sub('[0-9]{1,}\\s*(ml)', ' ', x)               # drop x ml\n",
        "  y = re.sub('[0-9]+(.[0-9]+)*', ' ', y)               # drop numbers\n",
        "  for word in drop_list:\n",
        "    y = re.sub(r'\\b{}\\b'.format(word), ' ', y)         # drop words in drop_list\n",
        "  y = re.sub('\\s+', ' ', y)                            # drop multiple space\n",
        "  if y[0] == ' ':                                      # drop first and last space (if it was there)\n",
        "    y = y[1:]\n",
        "  if y[-1] == ' ':\n",
        "    y = y[:-1]\n",
        "  return y\n",
        "\n",
        "new_titles = beauty['title'].apply(lambda x: drop_word(x, drop_list))"
      ],
      "execution_count": 0,
      "outputs": []
    },
    {
      "metadata": {
        "id": "M2s_B769kCGt",
        "colab_type": "code",
        "outputId": "eb0312f8-e50d-497b-9350-c0a67a4941b6",
        "colab": {
          "base_uri": "https://localhost:8080/",
          "height": 374
        }
      },
      "cell_type": "code",
      "source": [
        "# See most common words in fashion df\n",
        "print('beauty items:', beauty.shape[0])\n",
        "beauty_dict_3 = {}\n",
        "beauty_titles_3 = new_titles\n",
        "for title in beauty_titles_3:\n",
        "  words = title.split(' ')   \n",
        "  for word in words:\n",
        "    if word in beauty_dict_3:\n",
        "      beauty_dict_3[word] += 1\n",
        "    else:\n",
        "      beauty_dict_3[word] = 1\n",
        "      \n",
        "ordered_list = list(sorted(beauty_dict_3.items(), key = lambda x: x[1], reverse = True))s\n",
        "\n",
        "display_top_words(ordered_list[:50])"
      ],
      "execution_count": 0,
      "outputs": [
        {
          "output_type": "stream",
          "text": [
            "beauty items: 286583\n",
            "        cream: 74454\t          lip: 16631\t           cc: 11888\t     concealer: 9522\t      terlaris: 8471\t\n",
            "\n",
            "       powder: 62809\t         face: 16282\t        house: 11815\t       mineral: 9494\t      lipstick: 8385\t\n",
            "\n",
            "           bb: 36014\t      natural: 15591\t         make: 11621\t         blush: 9419\t           nyx: 8161\t\n",
            "\n",
            "      cushion: 31852\t        etude: 14097\t         pink: 11593\t       bioaqua: 9397\t      termurah: 8152\t\n",
            "\n",
            "          spf: 26984\t       liquid: 13698\t        loose: 11242\t         white: 9366\t            up: 8124\t\n",
            "\n",
            "        bedak: 25290\t        murah: 13105\t         acne: 10479\t        refill: 9361\t         stick: 8040\t\n",
            "\n",
            "     original: 23835\t           gr: 12698\t   maybelline: 10024\t          glow: 9236\t             g: 7848\t\n",
            "\n",
            "        matte: 21447\t          the: 12463\t         light: 9962\t          skin: 9126\t        diskon: 7733\t\n",
            "\n",
            "   foundation: 21108\t          new: 12351\t         magic: 9873\t          balm: 8694\t         wajah: 7547\t\n",
            "\n",
            "       wardah: 19296\t           pa: 11932\t     whitening: 9672\t       laneige: 8582\t          best: 7500\t\n",
            "\n"
          ],
          "name": "stdout"
        }
      ]
    },
    {
      "metadata": {
        "id": "aek3R1Ue1PLj",
        "colab_type": "code",
        "outputId": "6eeaf156-aabb-4f6f-d095-76c91ea49118",
        "colab": {
          "base_uri": "https://localhost:8080/",
          "height": 102
        }
      },
      "cell_type": "code",
      "source": [
        "def find_frequency_words(words):\n",
        "  for word in words:\n",
        "    num = 0\n",
        "    for title in new_titles:\n",
        "      if re.search(r'\\b{}\\b'.format(word), title):\n",
        "        num += 1\n",
        "    print(word, \":\", num)\n",
        "\n",
        "frequency_list = ['white', 'black', 'yellow', 'orange', ' pink']\n",
        "find_frequency_words(frequency_list)"
      ],
      "execution_count": 0,
      "outputs": [
        {
          "output_type": "stream",
          "text": [
            "white : 9372\n",
            "black : 3929\n",
            "yellow : 408\n",
            "orange : 678\n",
            " pink : 11456\n"
          ],
          "name": "stdout"
        }
      ]
    },
    {
      "metadata": {
        "id": "EYOHfUaP1POX",
        "colab_type": "code",
        "colab": {}
      },
      "cell_type": "code",
      "source": [
        "from sklearn.feature_extraction.text import TfidfVectorizer\n",
        "from sklearn.feature_extraction.text import CountVectorizer\n",
        "\n",
        "cntvt = CountVectorizer(ngram_range=(1,3), max_features = 8000, min_df=5)\n",
        "tfidf = TfidfVectorizer(ngram_range=(1,3), max_features = 8000, min_df=5)\n",
        "x_train_tf = tfidf.fit_transform(new_titles)\n",
        "x_train_cv = cntvt.fit_transform(new_titles)\n",
        "\n",
        "from sklearn.model_selection import train_test_split\n",
        "x_tf_train, x_tf_test, y_tf_train, y_tf_test = train_test_split(x_train_tf, beauty['Category'], test_size=0.2)\n",
        "x_cv_train, x_cv_test, y_cv_train, y_cv_test = train_test_split(x_train_cv, beauty['Category'], test_size=0.2)"
      ],
      "execution_count": 0,
      "outputs": []
    },
    {
      "metadata": {
        "id": "tqZ2sY7GVRfE",
        "colab_type": "code",
        "outputId": "744cb680-1b32-4704-93ec-6552c8d9ae1b",
        "colab": {
          "base_uri": "https://localhost:8080/",
          "height": 156
        }
      },
      "cell_type": "code",
      "source": [
        "# neural network\n",
        "from keras.models import Sequential\n",
        "from keras.layers import Dense, Dropout\n",
        "\n",
        "model = Sequential()\n",
        "model.add(Dense(1000, activation='relu', input_shape=(8000,)))\n",
        "model.add(Dropout(0.1))\n",
        "model.add(Dense(100, activation='relu'))\n",
        "model.add(Dense(17, activation='softmax'))\n",
        "\n",
        "model.compile(optimizer='adam', loss='sparse_categorical_crossentropy', metrics=['accuracy'])\n",
        "model.fit(x_train, y_train, epochs = 1)\n",
        "\n",
        "test_loss, test_acc = model.evaluate(x_test, y_test)\n",
        "\n",
        "print('Test accuracy:', test_acc)"
      ],
      "execution_count": 0,
      "outputs": [
        {
          "output_type": "stream",
          "text": [
            "WARNING:tensorflow:From /usr/local/lib/python3.6/dist-packages/keras/backend/tensorflow_backend.py:3445: calling dropout (from tensorflow.python.ops.nn_ops) with keep_prob is deprecated and will be removed in a future version.\n",
            "Instructions for updating:\n",
            "Please use `rate` instead of `keep_prob`. Rate should be set to `rate = 1 - keep_prob`.\n",
            "Epoch 1/1\n",
            "229266/229266 [==============================] - 804s 4ms/step - loss: 0.8456 - acc: 0.7426\n",
            "57317/57317 [==============================] - 27s 474us/step\n",
            "Test accuracy: 0.7584660746375421\n"
          ],
          "name": "stdout"
        }
      ]
    },
    {
      "metadata": {
        "id": "I3tmNZb9GUr9",
        "colab_type": "code",
        "colab": {}
      },
      "cell_type": "code",
      "source": [
        "# Save model\n",
        "model.save('gdrive/My Drive/beauty_model.h5')"
      ],
      "execution_count": 0,
      "outputs": []
    },
    {
      "metadata": {
        "id": "Oxq9XpwUKCmj",
        "colab_type": "code",
        "outputId": "e51b095d-3bac-42aa-b677-7c95cc83e541",
        "colab": {
          "base_uri": "https://localhost:8080/",
          "height": 68
        }
      },
      "cell_type": "code",
      "source": [
        "from sklearn.model_selection import GridSearchCV\n",
        "from sklearn.svm import LinearSVC\n",
        "\n",
        "c_space = np.linspace(0.5, 1.4, 10)\n",
        "param_grid = {'C':c_space}\n",
        "tfidf_SVC = LinearSVC(C=1)\n",
        "tfidf_SVC.fit(x_tf_train, y_tf_train)\n",
        "print('TF - IDF')\n",
        "print('Training set accuracy:', tfidf_SVC.score(x_tf_train, y_tf_train))\n",
        "print('Test set accuracy:', tfidf_SVC.score(x_tf_test, y_tf_test))\n",
        "# tfidf_grid = GridSearchCV(SVC, param_grid, cv=5)\n",
        "# tfidf_grid.fit(x_tf_train, y_tf_train)\n",
        "# print('Best parameter:', tfidf_grid.best_params_)\n",
        "# print('Best accuracy:', tfidf_grid.best_score_)"
      ],
      "execution_count": 0,
      "outputs": [
        {
          "output_type": "stream",
          "text": [
            "TF - IDF\n",
            "Training set accuracy: 0.78718170160425\n",
            "Test set accuracy: 0.7661950206744945\n"
          ],
          "name": "stdout"
        }
      ]
    },
    {
      "metadata": {
        "id": "aX5ZF4l8UwAC",
        "colab_type": "code",
        "outputId": "9cba56d2-09f4-451e-ff25-a28ff0397c53",
        "colab": {
          "base_uri": "https://localhost:8080/",
          "height": 68
        }
      },
      "cell_type": "code",
      "source": [
        "from sklearn.model_selection import GridSearchCV\n",
        "from sklearn.svm import LinearSVC\n",
        "\n",
        "c_space = np.linspace(0.5, 1.4, 10)\n",
        "param_grid = {'C':c_space}\n",
        "cntvt_SVC = LinearSVC(C=1)\n",
        "cntvt_SVC.fit(x_tf_train, y_tf_train)\n",
        "print('CountVectorizer')\n",
        "print('Training set accuracy:', cntvt_SVC.score(x_cv_train, y_cv_train))\n",
        "print('Test set accuracy:', cntvt_SVC.score(x_cv_test, y_cv_test))\n",
        "# tfidf_grid = GridSearchCV(SVC, param_grid, cv=5)\n",
        "# tfidf_grid.fit(x_tf_train, y_tf_train)\n",
        "# print('Best parameter:', tfidf_grid.best_params_)\n",
        "# print('Best accuracy:', tfidf_grid.best_score_)"
      ],
      "execution_count": 0,
      "outputs": [
        {
          "output_type": "stream",
          "text": [
            "CounVectorizer\n",
            "Training set accuracy: 0.7649455217956435\n",
            "Test set accuracy: 0.76272310134864\n"
          ],
          "name": "stdout"
        }
      ]
    },
    {
      "metadata": {
        "id": "GIBZuUDZTnkt",
        "colab_type": "code",
        "outputId": "f11b8ab0-86ba-4232-a81a-7ab162e91e12",
        "colab": {
          "base_uri": "https://localhost:8080/",
          "height": 34
        }
      },
      "cell_type": "code",
      "source": [
        "test = pd.read_csv('gdrive/My Drive/test.csv')\n",
        "beauty_test = test[test['image_path'].apply(lambda x: x.startswith('beauty'))]"
      ],
      "execution_count": 0,
      "outputs": [
        {
          "output_type": "execute_result",
          "data": {
            "text/plain": [
              "(76545, 3)"
            ]
          },
          "metadata": {
            "tags": []
          },
          "execution_count": 17
        }
      ]
    },
    {
      "metadata": {
        "id": "Fls5VFv3TnpL",
        "colab_type": "code",
        "colab": {}
      },
      "cell_type": "code",
      "source": [
        "new_test_titles = beauty_test['title'].apply(lambda x: drop_word(x, drop_list))"
      ],
      "execution_count": 0,
      "outputs": []
    },
    {
      "metadata": {
        "id": "s3PUemvaTnnH",
        "colab_type": "code",
        "colab": {}
      },
      "cell_type": "code",
      "source": [
        "x2_cntvt = cntvt.transform(new_test_titles)\n",
        "x2_tfidf = tfidf.transform(new_test_titles)"
      ],
      "execution_count": 0,
      "outputs": []
    },
    {
      "metadata": {
        "id": "VtaVxJ8DTniT",
        "colab_type": "code",
        "colab": {}
      },
      "cell_type": "code",
      "source": [
        "cntvt_labels = cntvt_SVC.predict(x2_cntvt)\n",
        "tfidf_labels = tfidf_SVC.predict(x2_tfidf)"
      ],
      "execution_count": 0,
      "outputs": []
    },
    {
      "metadata": {
        "id": "lRLCyawkVGK8",
        "colab_type": "code",
        "colab": {}
      },
      "cell_type": "code",
      "source": [
        "beauty_cntvt_submit = pd.DataFrame({'itemid': beauty_test['itemid'], 'Category': cntvt_labels}, columns=['itemid', 'Category'])\n",
        "beauty_cntvt_submit.to_csv('beauty_cntvt_submit.csv')"
      ],
      "execution_count": 0,
      "outputs": []
    },
    {
      "metadata": {
        "id": "4g9m_6MOVkrS",
        "colab_type": "code",
        "colab": {}
      },
      "cell_type": "code",
      "source": [
        "beauty_tfidf_submit = pd.DataFrame({'itemid': beauty_test['itemid'], 'Category': tfidf_labels}, columns=['itemid', 'Category'])\n",
        "beauty_tfidf_submit.to_csv('beauty_tfidf_submit.csv')"
      ],
      "execution_count": 0,
      "outputs": []
    }
  ]
}