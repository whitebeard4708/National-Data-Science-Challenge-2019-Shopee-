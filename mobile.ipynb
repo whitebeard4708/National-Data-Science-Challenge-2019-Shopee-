{
  "nbformat": 4,
  "nbformat_minor": 0,
  "metadata": {
    "colab": {
      "name": "mobile.ipynb",
      "version": "0.3.2",
      "provenance": [],
      "collapsed_sections": []
    },
    "kernelspec": {
      "name": "python3",
      "display_name": "Python 3"
    }
  },
  "cells": [
    {
      "metadata": {
        "id": "Ugmp9B5X6g9h",
        "colab_type": "code",
        "outputId": "e86377e2-9062-474e-b1b3-fdf778259892",
        "colab": {
          "base_uri": "https://localhost:8080/",
          "height": 34
        }
      },
      "cell_type": "code",
      "source": [
        "from google.colab import drive\n",
        "drive.mount('/content/gdrive')"
      ],
      "execution_count": 0,
      "outputs": [
        {
          "output_type": "stream",
          "text": [
            "Drive already mounted at /content/gdrive; to attempt to forcibly remount, call drive.mount(\"/content/gdrive\", force_remount=True).\n"
          ],
          "name": "stdout"
        }
      ]
    },
    {
      "metadata": {
        "id": "1pqJAGsJ6lqg",
        "colab_type": "code",
        "outputId": "b3892a4d-7d73-46c0-d4a2-322b16c4f20b",
        "colab": {
          "base_uri": "https://localhost:8080/",
          "height": 34
        }
      },
      "cell_type": "code",
      "source": [
        "import pandas as pd\n",
        "import numpy as np\n",
        "import tensorflow as tf\n",
        "import keras\n",
        "import json\n",
        "import seaborn as sns\n",
        "import matplotlib.pyplot as plt\n",
        "import random"
      ],
      "execution_count": 0,
      "outputs": [
        {
          "output_type": "stream",
          "text": [
            "Using TensorFlow backend.\n"
          ],
          "name": "stderr"
        }
      ]
    },
    {
      "metadata": {
        "id": "eKX42QVh6l0N",
        "colab_type": "code",
        "outputId": "84f3b268-4b0f-42d0-d4c6-37f57c88edbe",
        "colab": {
          "base_uri": "https://localhost:8080/",
          "height": 476
        }
      },
      "cell_type": "code",
      "source": [
        "with open('gdrive/My Drive/categories.json') as file:\n",
        "  data = json.load(file)\n",
        "\n",
        "mobile_data  = {}\n",
        "for key in data['Mobile'].keys():\n",
        "  lower_key = key.lower()\n",
        "  mobile_data[lower_key] = data['Mobile'][key]"
      ],
      "execution_count": 0,
      "outputs": [
        {
          "output_type": "execute_result",
          "data": {
            "text/plain": [
              "{'advan': 45,\n",
              " 'alcatel': 55,\n",
              " 'asus': 43,\n",
              " 'blackberry': 36,\n",
              " 'brandcode': 39,\n",
              " 'evercoss': 44,\n",
              " 'honor': 54,\n",
              " 'huawei': 47,\n",
              " 'icherry': 52,\n",
              " 'infinix': 40,\n",
              " 'iphone': 31,\n",
              " 'lenovo': 37,\n",
              " 'maxtron': 56,\n",
              " 'mito': 46,\n",
              " 'motorola': 49,\n",
              " 'nokia': 38,\n",
              " 'oppo': 41,\n",
              " 'others mobile & tablet': 35,\n",
              " 'realme': 51,\n",
              " 'samsung': 32,\n",
              " 'sharp': 48,\n",
              " 'smartfren': 53,\n",
              " 'sony': 33,\n",
              " 'spc': 57,\n",
              " 'strawberry': 50,\n",
              " 'vivo': 42,\n",
              " 'xiaomi': 34}"
            ]
          },
          "metadata": {
            "tags": []
          },
          "execution_count": 3
        }
      ]
    },
    {
      "metadata": {
        "id": "Um3RlLug6l2i",
        "colab_type": "code",
        "outputId": "97a132ad-733b-4cc1-e4e6-473363d92594",
        "colab": {
          "base_uri": "https://localhost:8080/",
          "height": 221
        }
      },
      "cell_type": "code",
      "source": [
        "df = pd.read_csv('gdrive/My Drive/train.csv')\n",
        "mobile = df[df['image_path'].apply(lambda x: x.startswith('mobile'))]\n",
        "mobile.head()"
      ],
      "execution_count": 0,
      "outputs": [
        {
          "output_type": "stream",
          "text": [
            "(160330, 4)\n"
          ],
          "name": "stdout"
        },
        {
          "output_type": "execute_result",
          "data": {
            "text/html": [
              "<div>\n",
              "<style scoped>\n",
              "    .dataframe tbody tr th:only-of-type {\n",
              "        vertical-align: middle;\n",
              "    }\n",
              "\n",
              "    .dataframe tbody tr th {\n",
              "        vertical-align: top;\n",
              "    }\n",
              "\n",
              "    .dataframe thead th {\n",
              "        text-align: right;\n",
              "    }\n",
              "</style>\n",
              "<table border=\"1\" class=\"dataframe\">\n",
              "  <thead>\n",
              "    <tr style=\"text-align: right;\">\n",
              "      <th></th>\n",
              "      <th>itemid</th>\n",
              "      <th>title</th>\n",
              "      <th>Category</th>\n",
              "      <th>image_path</th>\n",
              "    </tr>\n",
              "  </thead>\n",
              "  <tbody>\n",
              "    <tr>\n",
              "      <th>506285</th>\n",
              "      <td>2346660</td>\n",
              "      <td>apple iphone 4s back glass spare part original...</td>\n",
              "      <td>31</td>\n",
              "      <td>mobile_image/a9c8f0fdd6587deed197634066cf7eee.jpg</td>\n",
              "    </tr>\n",
              "    <tr>\n",
              "      <th>506286</th>\n",
              "      <td>2816338</td>\n",
              "      <td>iphone 4s 64gb white</td>\n",
              "      <td>31</td>\n",
              "      <td>mobile_image/3b9a11608551b11b9330268e0d055e01.jpg</td>\n",
              "    </tr>\n",
              "    <tr>\n",
              "      <th>506287</th>\n",
              "      <td>2847602</td>\n",
              "      <td>samsung sm b310e piton dual sim</td>\n",
              "      <td>32</td>\n",
              "      <td>mobile_image/1d719e936841a83c165da620f927de68.jpg</td>\n",
              "    </tr>\n",
              "    <tr>\n",
              "      <th>506288</th>\n",
              "      <td>3116949</td>\n",
              "      <td>samsung caramel gt e1272 dual sim 32 mb putih</td>\n",
              "      <td>32</td>\n",
              "      <td>mobile_image/1d35a74d90df6cf4a02e6a5df9e9ff29.jpg</td>\n",
              "    </tr>\n",
              "    <tr>\n",
              "      <th>506289</th>\n",
              "      <td>3794648</td>\n",
              "      <td>garskin sony experia z z1 z2 ultra</td>\n",
              "      <td>33</td>\n",
              "      <td>mobile_image/5556577b09539a9c0db0d00e0f171e2d.jpg</td>\n",
              "    </tr>\n",
              "  </tbody>\n",
              "</table>\n",
              "</div>"
            ],
            "text/plain": [
              "         itemid                                              title  Category  \\\n",
              "506285  2346660  apple iphone 4s back glass spare part original...        31   \n",
              "506286  2816338                               iphone 4s 64gb white        31   \n",
              "506287  2847602                    samsung sm b310e piton dual sim        32   \n",
              "506288  3116949      samsung caramel gt e1272 dual sim 32 mb putih        32   \n",
              "506289  3794648                 garskin sony experia z z1 z2 ultra        33   \n",
              "\n",
              "                                               image_path  \n",
              "506285  mobile_image/a9c8f0fdd6587deed197634066cf7eee.jpg  \n",
              "506286  mobile_image/3b9a11608551b11b9330268e0d055e01.jpg  \n",
              "506287  mobile_image/1d719e936841a83c165da620f927de68.jpg  \n",
              "506288  mobile_image/1d35a74d90df6cf4a02e6a5df9e9ff29.jpg  \n",
              "506289  mobile_image/5556577b09539a9c0db0d00e0f171e2d.jpg  "
            ]
          },
          "metadata": {
            "tags": []
          },
          "execution_count": 4
        }
      ]
    },
    {
      "metadata": {
        "id": "n-sSqqTH3j4V",
        "colab_type": "code",
        "outputId": "0a9cec4d-f0bd-47ff-cf86-db31af55f260",
        "colab": {
          "base_uri": "https://localhost:8080/",
          "height": 365
        }
      },
      "cell_type": "code",
      "source": [
        "mobile['Category'].value_counts().plot.bar()"
      ],
      "execution_count": 0,
      "outputs": [
        {
          "output_type": "execute_result",
          "data": {
            "text/plain": [
              "<matplotlib.axes._subplots.AxesSubplot at 0x7f503353d2e8>"
            ]
          },
          "metadata": {
            "tags": []
          },
          "execution_count": 5
        },
        {
          "output_type": "display_data",
          "data": {
            "image/png": "[encoded data removed]",
            "text/plain": [
              "<Figure size 576x396 with 1 Axes>"
            ]
          },
          "metadata": {
            "tags": []
          }
        }
      ]
    },
    {
      "metadata": {
        "id": "k01sdDri_K-P",
        "colab_type": "code",
        "outputId": "202f6eee-d57e-4867-f008-0a1d21784e1f",
        "colab": {
          "base_uri": "https://localhost:8080/",
          "height": 357
        }
      },
      "cell_type": "code",
      "source": [
        "# see the most frequent words in data\n",
        "def top_words(titles):\n",
        "  word_dict = {}\n",
        "  for title in titles:\n",
        "    words = title.split()\n",
        "    for word in words:\n",
        "      if word in word_dict:\n",
        "        word_dict[word] += 1\n",
        "      else:\n",
        "        word_dict[word] = 1\n",
        "\n",
        "  ordered_list = list(sorted(word_dict.items(), key = lambda x: x[1], reverse=True))\n",
        "  return ordered_list\n",
        "\n",
        "ordered_mobile = top_words(mobile['title'])\n",
        "\n",
        "import math\n",
        "def display_top_words(top_words):\n",
        "  rows = 10\n",
        "  cols = math.ceil(len(top_words) / 10.0)\n",
        "  a = 0\n",
        "  for row in range(rows):\n",
        "    words = top_words[row::10]\n",
        "    for word in words:\n",
        "      string = word[0] + ': ' + str(word[1])\n",
        "      print('{: >20}'.format(string), end='\\t')\n",
        "    print('\\n')\n",
        "    \n",
        "display_top_words(ordered_mobile[:50])"
      ],
      "execution_count": 0,
      "outputs": [
        {
          "output_type": "stream",
          "text": [
            "      samsung: 33200\t         64gb: 20071\t         vivo: 11922\t          asus: 7870\t          hari: 6524\t\n",
            "\n",
            "        promo: 32830\t         beli: 14992\t            6: 10916\t          16gb: 7784\t          chat: 6368\t\n",
            "\n",
            "      garansi: 31128\t     original: 14459\t        tahun: 10703\t             5: 7589\t          cuci: 6300\t\n",
            "\n",
            "       iphone: 27436\t          new: 14195\t         gold: 10543\t            gb: 7417\t           rom: 6268\t\n",
            "\n",
            "            1: 25020\t         plus: 14130\t           4gb: 9835\t         murah: 7359\t        diskon: 6194\t\n",
            "\n",
            "        resmi: 24304\t        black: 14032\t             4: 9433\t             7: 7334\t        gudang: 6060\t\n",
            "\n",
            "          ram: 22454\t         32gb: 13817\t           big: 9423\t            mi: 7278\t           ini: 6038\t\n",
            "\n",
            "       galaxy: 22329\t       gratis: 13283\t           pro: 9386\t         128gb: 6848\t         nokia: 5756\t\n",
            "\n",
            "            2: 21497\t           wa: 13143\t          note: 8192\t       zenfone: 6697\t          sony: 5632\t\n",
            "\n",
            "         oppo: 21283\t       xiaomi: 12909\t             3: 8015\t         ready: 6603\t            4g: 5579\t\n",
            "\n"
          ],
          "name": "stdout"
        }
      ]
    },
    {
      "metadata": {
        "id": "UfsW8R0seit1",
        "colab_type": "code",
        "outputId": "95cffeb6-a382-436d-ad1f-fa04fe1e37d2",
        "colab": {
          "base_uri": "https://localhost:8080/",
          "height": 102
        }
      },
      "cell_type": "code",
      "source": [
        "import re\n",
        "def find_word(title, word):\n",
        "  if re.search(r'\\b{}\\b'.format(word), title):\n",
        "    return True\n",
        "  else:\n",
        "    return False\n",
        "\n",
        "def find_title_word(data, word):\n",
        "  data_x = data[data['title'].apply(lambda x: find_word(x, word))]\n",
        "  return data_x\n",
        "\n",
        "\n",
        "def change_category(x, word, not_to_change):\n",
        "   if x['Category'] not in not_to_change and find_word(x['title'], word):\n",
        "    return mobile_data[word]\n",
        "   else:\n",
        "    return x['Category']\n",
        "    \n",
        "\n",
        "for word in ['samsung', 'iphone', 'xiaomi', 'oppo', 'vivo']:\n",
        "  mobile['Category'] = mobile.apply(lambda x: change_category(x, word, [35]), axis=1)"
      ],
      "execution_count": 0,
      "outputs": [
        {
          "output_type": "stream",
          "text": [
            "/usr/local/lib/python3.6/dist-packages/ipykernel_launcher.py:21: SettingWithCopyWarning: \n",
            "A value is trying to be set on a copy of a slice from a DataFrame.\n",
            "Try using .loc[row_indexer,col_indexer] = value instead\n",
            "\n",
            "See the caveats in the documentation: http://pandas.pydata.org/pandas-docs/stable/indexing.html#indexing-view-versus-copy\n"
          ],
          "name": "stderr"
        }
      ]
    },
    {
      "metadata": {
        "id": "IhyCskBFYZnY",
        "colab_type": "code",
        "outputId": "6322b44c-9217-4d73-bcf9-ba958131a35c",
        "colab": {
          "base_uri": "https://localhost:8080/",
          "height": 365
        }
      },
      "cell_type": "code",
      "source": [
        "b =  find_title_word(mobile, 'xiaomi')\n",
        "b['Category'].value_counts().plot.bar()"
      ],
      "execution_count": 0,
      "outputs": [
        {
          "output_type": "execute_result",
          "data": {
            "text/plain": [
              "<matplotlib.axes._subplots.AxesSubplot at 0x7f50332add68>"
            ]
          },
          "metadata": {
            "tags": []
          },
          "execution_count": 8
        },
        {
          "output_type": "display_data",
          "data": {
            "image/png": "[encoded data removed]",
            "text/plain": [
              "<Figure size 576x396 with 1 Axes>"
            ]
          },
          "metadata": {
            "tags": []
          }
        }
      ]
    },
    {
      "metadata": {
        "id": "LmY2qVtAdkAO",
        "colab_type": "code",
        "colab": {}
      },
      "cell_type": "code",
      "source": [
        "# b[b['Category'] == 35]"
      ],
      "execution_count": 0,
      "outputs": []
    },
    {
      "metadata": {
        "id": "NYi-xgaX6l45",
        "colab_type": "code",
        "outputId": "b5bcc66a-ac43-4d8c-b548-d70ff42b1cff",
        "colab": {
          "base_uri": "https://localhost:8080/",
          "height": 357
        }
      },
      "cell_type": "code",
      "source": [
        "# modify title\n",
        "import re\n",
        "def process_title(title, drop_words):\n",
        "  y = re.sub('[0-9]+(\\s)*(gb)', ' ', title)\n",
        "  \n",
        "  for word in drop_words:\n",
        "    y = re.sub(word, ' ', y)\n",
        "  \n",
        "  y = re.sub('\\s+', ' ', y)\n",
        "  return y\n",
        "\n",
        "drop_words = ['black', 'white', 'gold', 'promo']\n",
        "new_titles = mobile['title'].apply(lambda x: process_title(x, drop_words))\n",
        "\n",
        "new_top_words = top_words(new_titles)\n",
        "display_top_words(new_top_words[:50])"
      ],
      "execution_count": 0,
      "outputs": [
        {
          "output_type": "stream",
          "text": [
            "      samsung: 33200\t     original: 14460\t           pro: 9386\t         ready: 6604\t            4g: 5579\t\n",
            "\n",
            "      garansi: 31132\t          new: 14198\t             4: 9025\t          hari: 6524\t        second: 5505\t\n",
            "\n",
            "       iphone: 27437\t         plus: 14135\t          note: 8192\t          chat: 6368\t          sale: 5488\t\n",
            "\n",
            "            1: 24950\t       gratis: 13283\t          asus: 7870\t           rom: 6362\t         apple: 5187\t\n",
            "\n",
            "        resmi: 24304\t           wa: 13143\t             3: 7762\t          cuci: 6312\t             8: 4770\t\n",
            "\n",
            "          ram: 22702\t       xiaomi: 12909\t             5: 7579\t        diskon: 6194\t          sein: 4673\t\n",
            "\n",
            "       galaxy: 22329\t         vivo: 11922\t         murah: 7359\t        gudang: 6060\t         hitam: 4566\t\n",
            "\n",
            "            2: 21290\t        tahun: 10703\t             7: 7335\t           ini: 6038\t          dual: 4490\t\n",
            "\n",
            "         oppo: 21283\t            6: 10690\t            mi: 7278\t         nokia: 5756\t            s8: 4458\t\n",
            "\n",
            "         beli: 14992\t           big: 9434\t       zenfone: 6697\t          sony: 5632\t          case: 4306\t\n",
            "\n"
          ],
          "name": "stdout"
        }
      ]
    },
    {
      "metadata": {
        "id": "8Qp7yB7J6l7M",
        "colab_type": "code",
        "colab": {}
      },
      "cell_type": "code",
      "source": [
        "# word vectorizer\n",
        "from sklearn.feature_extraction.text import TfidfVectorizer\n",
        "from sklearn.feature_extraction.text import CountVectorizer\n",
        "from sklearn.model_selection import train_test_split\n",
        "\n",
        "tfidf = TfidfVectorizer(ngram_range = (1,3), min_df = 5, max_features = 8000)\n",
        "cntvt = CountVectorizer(ngram_range = (1,3), min_df = 5, max_features = 8000)\n",
        "\n",
        "x_tfidf = tfidf.fit_transform(new_titles)\n",
        "x_cntvt = cntvt.fit_transform(new_titles)\n",
        "y = mobile['Category'].apply(lambda x: x-31)\n",
        "x_train_tfidf, x_test_tfidf, y_train_tfidf, y_test_tfidf = train_test_split(x_tfidf, y, test_size = 0.2)\n",
        "x_train_cntvt, x_test_cntvt, y_train_cntvt, y_test_cntvt = train_test_split(x_cntvt, y, test_size = 0.2)"
      ],
      "execution_count": 0,
      "outputs": []
    },
    {
      "metadata": {
        "id": "6J9MWg--6l9v",
        "colab_type": "code",
        "outputId": "a101d333-7af9-4525-9f21-9c62ae8f65cc",
        "colab": {
          "base_uri": "https://localhost:8080/",
          "height": 863
        }
      },
      "cell_type": "code",
      "source": [
        "# neural network model\n",
        "from keras.models import Sequential\n",
        "from keras.layers import Dense\n",
        "\n",
        "model_tfidf = Sequential()\n",
        "model_tfidf.add(Dense(1000, input_shape=(8000,), activation='relu'))\n",
        "model_tfidf.add(Dense(150, activation='relu'))\n",
        "model_tfidf.add(Dense(27, activation='softmax'))\n",
        "model_tfidf.compile(optimizer='adam', loss='sparse_categorical_crossentropy', metrics=['accuracy'])\n",
        "model_tfidf.fit(x_train_tfidf, y_train_tfidf, epochs = 10)\n",
        "\n",
        "print('NEURAL NETWORK')\n",
        "print('TF - IDF')\n",
        "test_tfidf_loss, test_tfidf_acc = model_tfidf.evaluate(x_test_tfidf, y_test_tfidf)\n",
        "print('Training set accuracy:', test_tfidf_acc)\n",
        "model_tfidf.save('gdrive/My Drive/mobile_tfidf_model.h5')"
      ],
      "execution_count": 0,
      "outputs": [
        {
          "output_type": "stream",
          "text": [
            "WARNING:tensorflow:From /usr/local/lib/python3.6/dist-packages/tensorflow/python/framework/op_def_library.py:263: colocate_with (from tensorflow.python.framework.ops) is deprecated and will be removed in a future version.\n",
            "Instructions for updating:\n",
            "Colocations handled automatically by placer.\n",
            "WARNING:tensorflow:From /usr/local/lib/python3.6/dist-packages/tensorflow/python/ops/math_ops.py:3066: to_int32 (from tensorflow.python.ops.math_ops) is deprecated and will be removed in a future version.\n",
            "Instructions for updating:\n",
            "Use tf.cast instead.\n",
            "Epoch 1/10\n",
            "  2848/128264 [..............................] - ETA: 9:36 - loss: 1.7863 - acc: 0.5341"
          ],
          "name": "stdout"
        },
        {
          "output_type": "error",
          "ename": "KeyboardInterrupt",
          "evalue": "ignored",
          "traceback": [
            "\u001b[0;31m---------------------------------------------------------------------------\u001b[0m",
            "\u001b[0;31mKeyboardInterrupt\u001b[0m                         Traceback (most recent call last)",
            "\u001b[0;32m<ipython-input-11-f83316c0c0e7>\u001b[0m in \u001b[0;36m<module>\u001b[0;34m()\u001b[0m\n\u001b[1;32m      7\u001b[0m \u001b[0mmodel_tfidf\u001b[0m\u001b[0;34m.\u001b[0m\u001b[0madd\u001b[0m\u001b[0;34m(\u001b[0m\u001b[0mDense\u001b[0m\u001b[0;34m(\u001b[0m\u001b[0;36m27\u001b[0m\u001b[0;34m,\u001b[0m \u001b[0mactivation\u001b[0m\u001b[0;34m=\u001b[0m\u001b[0;34m'softmax'\u001b[0m\u001b[0;34m)\u001b[0m\u001b[0;34m)\u001b[0m\u001b[0;34m\u001b[0m\u001b[0;34m\u001b[0m\u001b[0m\n\u001b[1;32m      8\u001b[0m \u001b[0mmodel_tfidf\u001b[0m\u001b[0;34m.\u001b[0m\u001b[0mcompile\u001b[0m\u001b[0;34m(\u001b[0m\u001b[0moptimizer\u001b[0m\u001b[0;34m=\u001b[0m\u001b[0;34m'adam'\u001b[0m\u001b[0;34m,\u001b[0m \u001b[0mloss\u001b[0m\u001b[0;34m=\u001b[0m\u001b[0;34m'sparse_categorical_crossentropy'\u001b[0m\u001b[0;34m,\u001b[0m \u001b[0mmetrics\u001b[0m\u001b[0;34m=\u001b[0m\u001b[0;34m[\u001b[0m\u001b[0;34m'accuracy'\u001b[0m\u001b[0;34m]\u001b[0m\u001b[0;34m)\u001b[0m\u001b[0;34m\u001b[0m\u001b[0;34m\u001b[0m\u001b[0m\n\u001b[0;32m----> 9\u001b[0;31m \u001b[0mmodel_tfidf\u001b[0m\u001b[0;34m.\u001b[0m\u001b[0mfit\u001b[0m\u001b[0;34m(\u001b[0m\u001b[0mx_train_tfidf\u001b[0m\u001b[0;34m,\u001b[0m \u001b[0my_train_tfidf\u001b[0m\u001b[0;34m,\u001b[0m \u001b[0mepochs\u001b[0m \u001b[0;34m=\u001b[0m \u001b[0;36m10\u001b[0m\u001b[0;34m)\u001b[0m\u001b[0;34m\u001b[0m\u001b[0;34m\u001b[0m\u001b[0m\n\u001b[0m\u001b[1;32m     10\u001b[0m \u001b[0;34m\u001b[0m\u001b[0m\n\u001b[1;32m     11\u001b[0m \u001b[0mprint\u001b[0m\u001b[0;34m(\u001b[0m\u001b[0;34m'NEURAL NETWORK'\u001b[0m\u001b[0;34m)\u001b[0m\u001b[0;34m\u001b[0m\u001b[0;34m\u001b[0m\u001b[0m\n",
            "\u001b[0;32m/usr/local/lib/python3.6/dist-packages/keras/engine/training.py\u001b[0m in \u001b[0;36mfit\u001b[0;34m(self, x, y, batch_size, epochs, verbose, callbacks, validation_split, validation_data, shuffle, class_weight, sample_weight, initial_epoch, steps_per_epoch, validation_steps, **kwargs)\u001b[0m\n\u001b[1;32m   1037\u001b[0m                                         \u001b[0minitial_epoch\u001b[0m\u001b[0;34m=\u001b[0m\u001b[0minitial_epoch\u001b[0m\u001b[0;34m,\u001b[0m\u001b[0;34m\u001b[0m\u001b[0;34m\u001b[0m\u001b[0m\n\u001b[1;32m   1038\u001b[0m                                         \u001b[0msteps_per_epoch\u001b[0m\u001b[0;34m=\u001b[0m\u001b[0msteps_per_epoch\u001b[0m\u001b[0;34m,\u001b[0m\u001b[0;34m\u001b[0m\u001b[0;34m\u001b[0m\u001b[0m\n\u001b[0;32m-> 1039\u001b[0;31m                                         validation_steps=validation_steps)\n\u001b[0m\u001b[1;32m   1040\u001b[0m \u001b[0;34m\u001b[0m\u001b[0m\n\u001b[1;32m   1041\u001b[0m     def evaluate(self, x=None, y=None,\n",
            "\u001b[0;32m/usr/local/lib/python3.6/dist-packages/keras/engine/training_arrays.py\u001b[0m in \u001b[0;36mfit_loop\u001b[0;34m(model, f, ins, out_labels, batch_size, epochs, verbose, callbacks, val_f, val_ins, shuffle, callback_metrics, initial_epoch, steps_per_epoch, validation_steps)\u001b[0m\n\u001b[1;32m    197\u001b[0m                     \u001b[0mins_batch\u001b[0m\u001b[0;34m[\u001b[0m\u001b[0mi\u001b[0m\u001b[0;34m]\u001b[0m \u001b[0;34m=\u001b[0m \u001b[0mins_batch\u001b[0m\u001b[0;34m[\u001b[0m\u001b[0mi\u001b[0m\u001b[0;34m]\u001b[0m\u001b[0;34m.\u001b[0m\u001b[0mtoarray\u001b[0m\u001b[0;34m(\u001b[0m\u001b[0;34m)\u001b[0m\u001b[0;34m\u001b[0m\u001b[0;34m\u001b[0m\u001b[0m\n\u001b[1;32m    198\u001b[0m \u001b[0;34m\u001b[0m\u001b[0m\n\u001b[0;32m--> 199\u001b[0;31m                 \u001b[0mouts\u001b[0m \u001b[0;34m=\u001b[0m \u001b[0mf\u001b[0m\u001b[0;34m(\u001b[0m\u001b[0mins_batch\u001b[0m\u001b[0;34m)\u001b[0m\u001b[0;34m\u001b[0m\u001b[0;34m\u001b[0m\u001b[0m\n\u001b[0m\u001b[1;32m    200\u001b[0m                 \u001b[0mouts\u001b[0m \u001b[0;34m=\u001b[0m \u001b[0mto_list\u001b[0m\u001b[0;34m(\u001b[0m\u001b[0mouts\u001b[0m\u001b[0;34m)\u001b[0m\u001b[0;34m\u001b[0m\u001b[0;34m\u001b[0m\u001b[0m\n\u001b[1;32m    201\u001b[0m                 \u001b[0;32mfor\u001b[0m \u001b[0ml\u001b[0m\u001b[0;34m,\u001b[0m \u001b[0mo\u001b[0m \u001b[0;32min\u001b[0m \u001b[0mzip\u001b[0m\u001b[0;34m(\u001b[0m\u001b[0mout_labels\u001b[0m\u001b[0;34m,\u001b[0m \u001b[0mouts\u001b[0m\u001b[0;34m)\u001b[0m\u001b[0;34m:\u001b[0m\u001b[0;34m\u001b[0m\u001b[0;34m\u001b[0m\u001b[0m\n",
            "\u001b[0;32m/usr/local/lib/python3.6/dist-packages/keras/backend/tensorflow_backend.py\u001b[0m in \u001b[0;36m__call__\u001b[0;34m(self, inputs)\u001b[0m\n\u001b[1;32m   2713\u001b[0m                 \u001b[0;32mreturn\u001b[0m \u001b[0mself\u001b[0m\u001b[0;34m.\u001b[0m\u001b[0m_legacy_call\u001b[0m\u001b[0;34m(\u001b[0m\u001b[0minputs\u001b[0m\u001b[0;34m)\u001b[0m\u001b[0;34m\u001b[0m\u001b[0;34m\u001b[0m\u001b[0m\n\u001b[1;32m   2714\u001b[0m \u001b[0;34m\u001b[0m\u001b[0m\n\u001b[0;32m-> 2715\u001b[0;31m             \u001b[0;32mreturn\u001b[0m \u001b[0mself\u001b[0m\u001b[0;34m.\u001b[0m\u001b[0m_call\u001b[0m\u001b[0;34m(\u001b[0m\u001b[0minputs\u001b[0m\u001b[0;34m)\u001b[0m\u001b[0;34m\u001b[0m\u001b[0;34m\u001b[0m\u001b[0m\n\u001b[0m\u001b[1;32m   2716\u001b[0m         \u001b[0;32melse\u001b[0m\u001b[0;34m:\u001b[0m\u001b[0;34m\u001b[0m\u001b[0;34m\u001b[0m\u001b[0m\n\u001b[1;32m   2717\u001b[0m             \u001b[0;32mif\u001b[0m \u001b[0mpy_any\u001b[0m\u001b[0;34m(\u001b[0m\u001b[0mis_tensor\u001b[0m\u001b[0;34m(\u001b[0m\u001b[0mx\u001b[0m\u001b[0;34m)\u001b[0m \u001b[0;32mfor\u001b[0m \u001b[0mx\u001b[0m \u001b[0;32min\u001b[0m \u001b[0minputs\u001b[0m\u001b[0;34m)\u001b[0m\u001b[0;34m:\u001b[0m\u001b[0;34m\u001b[0m\u001b[0;34m\u001b[0m\u001b[0m\n",
            "\u001b[0;32m/usr/local/lib/python3.6/dist-packages/keras/backend/tensorflow_backend.py\u001b[0m in \u001b[0;36m_call\u001b[0;34m(self, inputs)\u001b[0m\n\u001b[1;32m   2653\u001b[0m                 array_vals.append(\n\u001b[1;32m   2654\u001b[0m                     np.asarray(value,\n\u001b[0;32m-> 2655\u001b[0;31m                                dtype=tf.as_dtype(tensor.dtype).as_numpy_dtype))\n\u001b[0m\u001b[1;32m   2656\u001b[0m         \u001b[0;32mif\u001b[0m \u001b[0mself\u001b[0m\u001b[0;34m.\u001b[0m\u001b[0mfeed_dict\u001b[0m\u001b[0;34m:\u001b[0m\u001b[0;34m\u001b[0m\u001b[0;34m\u001b[0m\u001b[0m\n\u001b[1;32m   2657\u001b[0m             \u001b[0;32mfor\u001b[0m \u001b[0mkey\u001b[0m \u001b[0;32min\u001b[0m \u001b[0msorted\u001b[0m\u001b[0;34m(\u001b[0m\u001b[0mself\u001b[0m\u001b[0;34m.\u001b[0m\u001b[0mfeed_dict\u001b[0m\u001b[0;34m.\u001b[0m\u001b[0mkeys\u001b[0m\u001b[0;34m(\u001b[0m\u001b[0;34m)\u001b[0m\u001b[0;34m)\u001b[0m\u001b[0;34m:\u001b[0m\u001b[0;34m\u001b[0m\u001b[0;34m\u001b[0m\u001b[0m\n",
            "\u001b[0;31mKeyboardInterrupt\u001b[0m: "
          ]
        }
      ]
    },
    {
      "metadata": {
        "id": "HbCT2ec5_3v5",
        "colab_type": "code",
        "colab": {}
      },
      "cell_type": "code",
      "source": [
        "test_tfidf_loss, test_tfidf_score = model_tfidf.evaluate(x_test_tfidf, y_test_tfidf)\n",
        "print('loss:', test_tfidf_loss, 'accuracy:', test_tfidf_score)"
      ],
      "execution_count": 0,
      "outputs": []
    },
    {
      "metadata": {
        "id": "EVNVzeyj_5UX",
        "colab_type": "code",
        "colab": {}
      },
      "cell_type": "code",
      "source": [
        "model_tfidf.save('gdrive/My Drive/model_1.h5')"
      ],
      "execution_count": 0,
      "outputs": []
    },
    {
      "metadata": {
        "id": "zAOKHUlY6mAG",
        "colab_type": "code",
        "outputId": "d2b9c124-681a-4259-d7e0-a991d81d26c2",
        "colab": {
          "base_uri": "https://localhost:8080/",
          "height": 102
        }
      },
      "cell_type": "code",
      "source": [
        "# SVM model\n",
        "from sklearn.svm import LinearSVC\n",
        "from sklearn.model_selection import GridSearchCV\n",
        "\n",
        "c_tfidf_space = np.linspace(0.7, 0.8, 10)\n",
        "param_tfidf_grid = {'C':c_tfidf_space}\n",
        "SVC_tfidf = LinearSVC(C=0.8, max_iter = 3000, tol=5e-5)\n",
        "# tfidf_grid = GridSearchCV(SVC, param_grid, cv=5)\n",
        "# tfidf_grid.fit(x_train_tfidf, y_train_tfidf)\n",
        "SVC_tfidf.fit(x_tfidf, y)\n",
        "print('TF - IDF')\n",
        "print('Training set accuracy:', SVC_tfidf.score(x_tfidf, y))\n",
        "# print('Test set accuracy:', SVC_tfidf.score(x_test_tfidf, y_test_tfidf))\n",
        "print('-----------------------')\n",
        "\n",
        "SVC_cntvt = LinearSVC(C = 1/3)\n",
        "# c_cntvt_space = np.linspace(0.3, 0.35, 10)\n",
        "# param_cntvt_grid = {'C': c_cntvt_space}\n",
        "# cntvt_grid = GridSearchCV(SVC_cntvt, param_cntvt_grid, cv=5)\n",
        "# cntvt_grid.fit(x_train_cntvt, y_train_cntvt)\n",
        "# print(\"CountVectorizer\")\n",
        "# print('C:', cntvt_grid.best_params_)\n",
        "# print('Best accuracy:', cntvt_grid.best_score_)\n",
        "SVC_cntvt.fit(x_cntvt, y)\n",
        "print('CountVectorizer')\n",
        "print('Training set accuracy:', SVC_cntvt.score(x_cntvt, y))\n",
        "# print('Test set accuracy:', SVC_cntvt.score(x_test_cntvt, y_test_cntvt))"
      ],
      "execution_count": 0,
      "outputs": [
        {
          "output_type": "stream",
          "text": [
            "TF - IDF\n",
            "Training set accuracy: 0.870055510509574\n",
            "-----------------------\n",
            "CountVectorizer\n",
            "Training set accuracy: 0.8803592590282542\n"
          ],
          "name": "stdout"
        }
      ]
    },
    {
      "metadata": {
        "id": "v1rUGkhx6mCT",
        "colab_type": "code",
        "colab": {}
      },
      "cell_type": "code",
      "source": [
        "test = pd.read_csv('gdrive/My Drive/test.csv')\n",
        "test.info()"
      ],
      "execution_count": 0,
      "outputs": []
    },
    {
      "metadata": {
        "id": "4E3EklRK6mEV",
        "colab_type": "code",
        "colab": {}
      },
      "cell_type": "code",
      "source": [
        "test_mobile = test[test['image_path'].apply(lambda x: x.startswith('mobile'))]\n",
        "test_mobile.head()"
      ],
      "execution_count": 0,
      "outputs": []
    },
    {
      "metadata": {
        "id": "9MRqKS3mi_Bn",
        "colab_type": "code",
        "colab": {}
      },
      "cell_type": "code",
      "source": [
        "new_test_titles = test_mobile['title'].apply(lambda x: process_title(x, drop_words))\n",
        "x2_tfidf = tfidf.transform(new_test_titles)\n",
        "test_predict_tfidf = SVC_tfidf.predict(x2_tfidf)"
      ],
      "execution_count": 0,
      "outputs": []
    },
    {
      "metadata": {
        "id": "_yx-d8eZkCNb",
        "colab_type": "code",
        "colab": {}
      },
      "cell_type": "code",
      "source": [
        "mobile_tfidf_submit = pd.DataFrame({'itemid': test_mobile['itemid'], 'Category': test_predict_tfidf}, columns=['itemid', 'Category'])\n",
        "mobile_tfidf_submit.to_csv('mobile_tfidf_submit.csv')"
      ],
      "execution_count": 0,
      "outputs": []
    },
    {
      "metadata": {
        "id": "9AjXCB8xlFIQ",
        "colab_type": "code",
        "colab": {}
      },
      "cell_type": "code",
      "source": [
        "x2_cntvt = cntvt.transform(new_test_titles)\n",
        "test_predict_cntvt = SVC_cntvt.predict(x2_cntvt)"
      ],
      "execution_count": 0,
      "outputs": []
    },
    {
      "metadata": {
        "id": "t2Ty9P-JlwQi",
        "colab_type": "code",
        "colab": {}
      },
      "cell_type": "code",
      "source": [
        "mobile_cntvt_submit = pd.DataFrame({'itemid': test_mobile['itemid'], 'Category': test_predict_cntvt}, columns=['itemid', 'Category'])\n",
        "mobile_cntvt_submit.to_csv('mobile_cntvt_submit.csv')"
      ],
      "execution_count": 0,
      "outputs": []
    },
    {
      "metadata": {
        "id": "8pFPByb8mNGK",
        "colab_type": "code",
        "colab": {}
      },
      "cell_type": "code",
      "source": [
        "from keras.models import load_model\n",
        "model_tfidf = load_model('gdrive/My Drive/mobile_tfidf_model.h5')\n",
        "model_tfidf.fit(x_tfidf, y, epochs = 5)"
      ],
      "execution_count": 0,
      "outputs": []
    },
    {
      "metadata": {
        "id": "wnrXGr1_mNIe",
        "colab_type": "code",
        "colab": {}
      },
      "cell_type": "code",
      "source": [
        "test_predict_model = model_tfidf.predict(x2_tfidf)\n",
        "df1 = pd.DataFrame(test_predict_model)\n",
        "haha = df1.apply(lambda x: x.idxmax(), axis=1)\n",
        "mobile_model_submit = pd.DataFrame({'itemid': test_mobile['itemid'], 'Category':haha}, columns = ['itemid', 'Category'])\n",
        "mobile_model_submit.to_csv('mobile_model_submit.csv')"
      ],
      "execution_count": 0,
      "outputs": []
    }
  ]
}