{
  "nbformat": 4,
  "nbformat_minor": 0,
  "metadata": {
    "colab": {
      "name": "fashion.ipynb",
      "version": "0.3.2",
      "provenance": [],
      "collapsed_sections": []
    },
    "kernelspec": {
      "name": "python3",
      "display_name": "Python 3"
    }
  },
  "cells": [
    {
      "metadata": {
        "id": "PM1Wfc5JWub1",
        "colab_type": "code",
        "outputId": "bad3f10f-13c3-4897-e31d-da2268af8b6f",
        "colab": {
          "base_uri": "https://localhost:8080/",
          "height": 122
        }
      },
      "cell_type": "code",
      "source": [
        "from google.colab import drive\n",
        "drive.mount('/content/gdrive')"
      ],
      "execution_count": 0,
      "outputs": [
        {
          "output_type": "stream",
          "text": [
            "Go to this URL in a browser: https://accounts.google.com/o/oauth2/auth?client_id=947318989803-6bn6qk8qdgf4n4g3pfee6491hc0brc4i.apps.googleusercontent.com&redirect_uri=urn%3Aietf%3Awg%3Aoauth%3A2.0%3Aoob&scope=email%20https%3A%2F%2Fwww.googleapis.com%2Fauth%2Fdocs.test%20https%3A%2F%2Fwww.googleapis.com%2Fauth%2Fdrive%20https%3A%2F%2Fwww.googleapis.com%2Fauth%2Fdrive.photos.readonly%20https%3A%2F%2Fwww.googleapis.com%2Fauth%2Fpeopleapi.readonly&response_type=code\n",
            "\n",
            "Enter your authorization code:\n",
            "··········\n",
            "Mounted at /content/gdrive\n"
          ],
          "name": "stdout"
        }
      ]
    },
    {
      "metadata": {
        "id": "UNPsk0PbWyFu",
        "colab_type": "code",
        "outputId": "b60a8593-fbe5-4685-b7b2-ca6bfe9c6e40",
        "colab": {
          "base_uri": "https://localhost:8080/",
          "height": 34
        }
      },
      "cell_type": "code",
      "source": [
        "import pandas as pd\n",
        "import numpy as np\n",
        "import tensorflow as tf\n",
        "import keras\n",
        "import seaborn as sns\n",
        "import matplotlib.pyplot as plt\n",
        "import json"
      ],
      "execution_count": 0,
      "outputs": [
        {
          "output_type": "stream",
          "text": [
            "Using TensorFlow backend.\n"
          ],
          "name": "stderr"
        }
      ]
    },
    {
      "metadata": {
        "id": "vwEamopcWzoZ",
        "colab_type": "code",
        "outputId": "8439687c-2964-4b7f-be95-e246b3fc247c",
        "colab": {
          "base_uri": "https://localhost:8080/",
          "height": 255
        }
      },
      "cell_type": "code",
      "source": [
        "with open('gdrive/My Drive/categories.json') as file:\n",
        "  data = json.load(file)\n",
        "\n",
        "fashion_data = data['Fashion']"
      ],
      "execution_count": 0,
      "outputs": [
        {
          "output_type": "execute_result",
          "data": {
            "text/plain": [
              "{'A Line Dress': 21,\n",
              " 'Big Size Dress': 24,\n",
              " 'Big Size Top': 30,\n",
              " 'Blouse\\xa0': 26,\n",
              " 'Bodycon Dress': 22,\n",
              " 'Casual Dress': 18,\n",
              " 'Crop Top ': 29,\n",
              " 'Maxi Dress': 20,\n",
              " 'Others': 17,\n",
              " 'Party Dress': 19,\n",
              " 'Shirt': 27,\n",
              " 'Tanktop': 28,\n",
              " 'Tshirt': 25,\n",
              " 'Wedding Dress': 23}"
            ]
          },
          "metadata": {
            "tags": []
          },
          "execution_count": 3
        }
      ]
    },
    {
      "metadata": {
        "id": "nFWeuc7FXBTu",
        "colab_type": "code",
        "outputId": "a6f4a371-30e6-4904-dfa2-14539ae1212b",
        "colab": {
          "base_uri": "https://localhost:8080/",
          "height": 170
        }
      },
      "cell_type": "code",
      "source": [
        "df = pd.read_csv('gdrive/My Drive/train.csv')\n",
        "fashion = df[df['image_path'].apply(lambda x: x.startswith('fashion'))]\n",
        "fashion.info()"
      ],
      "execution_count": 0,
      "outputs": [
        {
          "output_type": "stream",
          "text": [
            "<class 'pandas.core.frame.DataFrame'>\n",
            "Int64Index: 219702 entries, 286583 to 506284\n",
            "Data columns (total 4 columns):\n",
            "itemid        219702 non-null int64\n",
            "title         219702 non-null object\n",
            "Category      219702 non-null int64\n",
            "image_path    219702 non-null object\n",
            "dtypes: int64(2), object(2)\n",
            "memory usage: 8.4+ MB\n"
          ],
          "name": "stdout"
        }
      ]
    },
    {
      "metadata": {
        "id": "wV8h64h5Lj7N",
        "colab_type": "code",
        "outputId": "be905195-c9b0-4241-ab0f-d5075e7aadab",
        "colab": {
          "base_uri": "https://localhost:8080/",
          "height": 501
        }
      },
      "cell_type": "code",
      "source": [
        "fashion['Category'].value_counts().plot.bar(figsize=(20,8))"
      ],
      "execution_count": 0,
      "outputs": [
        {
          "output_type": "execute_result",
          "data": {
            "text/plain": [
              "<matplotlib.axes._subplots.AxesSubplot at 0x7f5c372e14e0>"
            ]
          },
          "metadata": {
            "tags": []
          },
          "execution_count": 5
        },
        {
          "output_type": "display_data",
          "data": {
            "image/png": "[encoded data removed]",
            "text/plain": [
              "<Figure size 1440x576 with 1 Axes>"
            ]
          },
          "metadata": {
            "tags": []
          }
        }
      ]
    },
    {
      "metadata": {
        "id": "PWwi1RjxX6YD",
        "colab_type": "text"
      },
      "cell_type": "markdown",
      "source": [
        "Train fashion"
      ]
    },
    {
      "metadata": {
        "id": "r0cP2EVKXBiZ",
        "colab_type": "code",
        "outputId": "df889ddc-a240-4f5c-db3b-2358614c1c83",
        "colab": {
          "base_uri": "https://localhost:8080/",
          "height": 374
        }
      },
      "cell_type": "code",
      "source": [
        "# See most common words in fashion df\n",
        "print('fashion items:', fashion.shape[0])\n",
        "fashion_dict = {}\n",
        "fashion_titles = fashion['title']\n",
        "for title in fashion_titles:\n",
        "  words = title.split(' ')\n",
        "  for word in words:\n",
        "    if word in fashion_dict:\n",
        "      fashion_dict[word] += 1\n",
        "    else:\n",
        "      fashion_dict[word] = 1\n",
        "      \n",
        "ordered_fashion = list(sorted(fashion_dict.items(), key = lambda x: x[1], reverse = True))\n",
        "\n",
        "import math\n",
        "def display_top_words(top_words):\n",
        "  rows = 10\n",
        "  cols = math.ceil(len(top_words) / 10.0)\n",
        "  a = 0\n",
        "  for row in range(rows):\n",
        "    words = top_words[row::10]\n",
        "    for word in words:\n",
        "      string = word[0] + ': ' + str(word[1])\n",
        "      print('{: >20}'.format(string), end='\\t')\n",
        "    print('\\n')\n",
        "    \n",
        "display_top_words(ordered_fashion[:50])"
      ],
      "execution_count": 0,
      "outputs": [
        {
          "output_type": "stream",
          "text": [
            "fashion items: 219702\n",
            "      lengan: 107704\t         sexy: 33120\t        pesta: 26357\t        panas: 17810\t       blouse: 13492\t\n",
            "\n",
            "        dress: 93258\t        bahan: 32733\t        musim: 25738\t      longgar: 17429\t        bunga: 13021\t\n",
            "\n",
            "       wanita: 85859\t       casual: 32039\t       dengan: 25725\t     shoulder: 16769\t         maxi: 12748\t\n",
            "\n",
            "         neck: 59757\t         kaos: 28777\t         long: 24924\t          dan: 16637\t      bodycon: 11935\t\n",
            "\n",
            "        untuk: 59747\t        shirt: 28630\t        tanpa: 22706\t          off: 15422\t         baju: 11901\t\n",
            "\n",
            "      panjang: 56292\t       pendek: 28331\t         mini: 21440\t            o: 14786\t       import: 11006\t\n",
            "\n",
            "        model: 46733\t         lace: 28184\t            t: 21197\t         slim: 13851\t        korea: 10944\t\n",
            "\n",
            "        motif: 36226\t        warna: 27128\t       sleeve: 20989\t      fashion: 13790\t        party: 10919\t\n",
            "\n",
            "            v: 35972\t        print: 27103\t         gaun: 19665\t        sifon: 13697\t        murah: 10790\t\n",
            "\n",
            "        polos: 34030\t        women: 26953\t         blus: 18292\t          top: 13609\t       kemeja: 10731\t\n",
            "\n"
          ],
          "name": "stdout"
        }
      ]
    },
    {
      "metadata": {
        "id": "zCpm8_b89KCa",
        "colab_type": "code",
        "colab": {}
      },
      "cell_type": "code",
      "source": [
        "import re\n",
        "def find_word(title, words):\n",
        "  test_cases = [0]*len(words)\n",
        "  for i in range(len(words)):\n",
        "    if re.search(r'\\b{}\\b'.format(words[i]), title):\n",
        "      test_cases[i] = True\n",
        "    else:\n",
        "      test_cases[i] = False\n",
        "  return all(test_cases)\n",
        "\n",
        "def find_title_words(data, words):\n",
        "  data_x = data[data['title'].apply(lambda x: find_word(x, words))]\n",
        "  return data_x\n",
        "\n",
        "\n",
        "def change_category(x, words, to_change, not_to_change):\n",
        "  if x['Category'] not in not_to_change and find_word(x['title'], words):\n",
        "    return to_change\n",
        "  else:\n",
        "    return x['Category']"
      ],
      "execution_count": 0,
      "outputs": []
    },
    {
      "metadata": {
        "id": "JWb8ISw6nsWq",
        "colab_type": "code",
        "outputId": "494e49bb-d77e-4dd4-95d7-72e6ef2e2d1e",
        "colab": {
          "base_uri": "https://localhost:8080/",
          "height": 751
        }
      },
      "cell_type": "code",
      "source": [
        "fashion['Category'] = fashion.apply(lambda x: change_category(x, ['crop top'], 29, [30]), axis=1)\n",
        "fashion['Category'] = fashion.apply(lambda x: change_category(x, ['tshirt'], 25, []), axis=1)\n",
        "fashion['Category'] = fashion.apply(lambda x: change_category(x, ['t shirt'], 25, []), axis=1)\n",
        "fashion['Category'] = fashion.apply(lambda x: change_category(x, ['maxi', 'dress'], 20, [18]), axis=1)\n",
        "fashion['Category'] = fashion.apply(lambda x: change_category(x, ['wedding'], 23, []), axis=1)\n",
        "fashion['Category'] = fashion.apply(lambda x: change_category(x, ['blouse'], 26, [25]), axis=1)\n",
        "fashion['Category'] = fashion.apply(lambda x: change_category(x, ['bodycon'], 22, [20]), axis=1)\n"
      ],
      "execution_count": 0,
      "outputs": [
        {
          "output_type": "stream",
          "text": [
            "/usr/local/lib/python3.6/dist-packages/ipykernel_launcher.py:1: SettingWithCopyWarning: \n",
            "A value is trying to be set on a copy of a slice from a DataFrame.\n",
            "Try using .loc[row_indexer,col_indexer] = value instead\n",
            "\n",
            "See the caveats in the documentation: http://pandas.pydata.org/pandas-docs/stable/indexing.html#indexing-view-versus-copy\n",
            "  \"\"\"Entry point for launching an IPython kernel.\n",
            "/usr/local/lib/python3.6/dist-packages/ipykernel_launcher.py:2: SettingWithCopyWarning: \n",
            "A value is trying to be set on a copy of a slice from a DataFrame.\n",
            "Try using .loc[row_indexer,col_indexer] = value instead\n",
            "\n",
            "See the caveats in the documentation: http://pandas.pydata.org/pandas-docs/stable/indexing.html#indexing-view-versus-copy\n",
            "  \n",
            "/usr/local/lib/python3.6/dist-packages/ipykernel_launcher.py:3: SettingWithCopyWarning: \n",
            "A value is trying to be set on a copy of a slice from a DataFrame.\n",
            "Try using .loc[row_indexer,col_indexer] = value instead\n",
            "\n",
            "See the caveats in the documentation: http://pandas.pydata.org/pandas-docs/stable/indexing.html#indexing-view-versus-copy\n",
            "  This is separate from the ipykernel package so we can avoid doing imports until\n",
            "/usr/local/lib/python3.6/dist-packages/ipykernel_launcher.py:4: SettingWithCopyWarning: \n",
            "A value is trying to be set on a copy of a slice from a DataFrame.\n",
            "Try using .loc[row_indexer,col_indexer] = value instead\n",
            "\n",
            "See the caveats in the documentation: http://pandas.pydata.org/pandas-docs/stable/indexing.html#indexing-view-versus-copy\n",
            "  after removing the cwd from sys.path.\n",
            "/usr/local/lib/python3.6/dist-packages/ipykernel_launcher.py:5: SettingWithCopyWarning: \n",
            "A value is trying to be set on a copy of a slice from a DataFrame.\n",
            "Try using .loc[row_indexer,col_indexer] = value instead\n",
            "\n",
            "See the caveats in the documentation: http://pandas.pydata.org/pandas-docs/stable/indexing.html#indexing-view-versus-copy\n",
            "  \"\"\"\n",
            "/usr/local/lib/python3.6/dist-packages/ipykernel_launcher.py:6: SettingWithCopyWarning: \n",
            "A value is trying to be set on a copy of a slice from a DataFrame.\n",
            "Try using .loc[row_indexer,col_indexer] = value instead\n",
            "\n",
            "See the caveats in the documentation: http://pandas.pydata.org/pandas-docs/stable/indexing.html#indexing-view-versus-copy\n",
            "  \n",
            "/usr/local/lib/python3.6/dist-packages/ipykernel_launcher.py:7: SettingWithCopyWarning: \n",
            "A value is trying to be set on a copy of a slice from a DataFrame.\n",
            "Try using .loc[row_indexer,col_indexer] = value instead\n",
            "\n",
            "See the caveats in the documentation: http://pandas.pydata.org/pandas-docs/stable/indexing.html#indexing-view-versus-copy\n",
            "  import sys\n"
          ],
          "name": "stderr"
        }
      ]
    },
    {
      "metadata": {
        "id": "eOg4_uckwz4u",
        "colab_type": "code",
        "colab": {}
      },
      "cell_type": "code",
      "source": [
        "import re\n",
        "  \n",
        "def process_title(x, drop_words):\n",
        "  y = x\n",
        "  for word in drop_words:\n",
        "    y = re.sub('\\b{}\\b'.format(word), ' ', y)\n",
        "    \n",
        "  y = re.sub('\\b{}\\b'.format('t shirt'), 'tshirt', y)  \n",
        "  y = re.sub('\\b[a-z]\\b', ' ', y)\n",
        "  y = re.sub('\\s+', ' ', y)\n",
        "  return y\n",
        "  \n",
        "drop_words = []\n",
        "new_titles = fashion['title'].apply(lambda x: process_title(x, drop_words))"
      ],
      "execution_count": 0,
      "outputs": []
    },
    {
      "metadata": {
        "id": "CECaAnj8XBgF",
        "colab_type": "code",
        "colab": {}
      },
      "cell_type": "code",
      "source": [
        "# word vectorizer\n",
        "from sklearn.feature_extraction.text import TfidfVectorizer\n",
        "from sklearn.feature_extraction.text import CountVectorizer\n",
        "from sklearn.model_selection import train_test_split\n",
        "\n",
        "tfidf = TfidfVectorizer(ngram_range = (1,3), min_df = 5, max_features = 10000)\n",
        "cntvt = CountVectorizer(ngram_range = (1,3), min_df = 5, max_features = 10000)\n",
        "\n",
        "x_tfidf = tfidf.fit_transform(new_titles)\n",
        "x_cntvt = cntvt.fit_transform(new_titles)\n",
        "y = fashion['Category'].apply(lambda x: x-17)\n",
        "x_train_tfidf, x_test_tfidf, y_train_tfidf, y_test_tfidf = train_test_split(x_tfidf, y, test_size = 0.2)\n",
        "x_train_cntvt, x_test_cntvt, y_train_cntvt, y_test_cntvt = train_test_split(x_cntvt, y, test_size = 0.2)"
      ],
      "execution_count": 0,
      "outputs": []
    },
    {
      "metadata": {
        "id": "Y5c51gOOXBlD",
        "colab_type": "code",
        "outputId": "b4b9f132-b90b-41b8-b90c-0053bd30bc87",
        "colab": {
          "base_uri": "https://localhost:8080/",
          "height": 85
        }
      },
      "cell_type": "code",
      "source": [
        "# SVM model\n",
        "from sklearn.svm import LinearSVC\n",
        "from sklearn.model_selection import GridSearchCV\n",
        "\n",
        "print('TF - IDF')\n",
        "SVC_tfidf = LinearSVC(C=2, max_iter=3000, tol=5e-5)\n",
        "# c_tfidf_space = np.linspace(0.5, 1.4, 10)\n",
        "# param_tfidf_grid = {'C':c_tfidf_space}\n",
        "# tfidf_grid = GridSearchCV(SVC_tfidf, param_tfidf_grid, cv=5)\n",
        "# tfidf_grid.fit(x_train_tfidf, y_train_tfidf)\n",
        "# print('Best parameter:', tfidf_grid.best_params_)\n",
        "# print('Best accuracy:', tfidf_grid.best_score_)\n",
        "SVC_tfidf.fit(x_train_tfidf, y_train_tfidf)\n",
        "print('Training set accuracy:', SVC_tfidf.score(x_train_tfidf, y_train_tfidf))\n",
        "print('Test set accuracy:', SVC_tfidf.score(x_test_tfidf, y_test_tfidf))\n",
        "\n",
        "print('-----------------------')\n",
        "\n"
      ],
      "execution_count": 0,
      "outputs": [
        {
          "output_type": "stream",
          "text": [
            "TF - IDF\n",
            "Training set accuracy: 0.7444711853027691\n",
            "Test set accuracy: 0.6790696615916798\n",
            "-----------------------\n"
          ],
          "name": "stdout"
        }
      ]
    },
    {
      "metadata": {
        "id": "WGms24tmbbn3",
        "colab_type": "code",
        "outputId": "b0fb7634-eb6e-48d8-ae74-0cda9c0222fc",
        "colab": {
          "base_uri": "https://localhost:8080/",
          "height": 68
        }
      },
      "cell_type": "code",
      "source": [
        "from sklearn.svm import LinearSVC\n",
        "print(\"CountVectorizer\")\n",
        "SVC_cntvt = LinearSVC(C=1.0, max_iter= 4000, tol=5e-5 )\n",
        "# c\n",
        "_cntvt_space = np.linspace(0.5, 1.4, 10)\n",
        "# param_cntvt_grid = {'C': c_cntvt_space}\n",
        "# cntvt_grid = GridSearchCV(SVC_cntvt, param_cntvt_grid, cv=5)\n",
        "# cntvt_grid.fit(x_train_cntvt, y_train_cntvt)\n",
        "# print('Best parameter:', cntvt_grid.best_params_)\n",
        "# print('Best accuracy:', cntvt_grid.best_score_)\n",
        "SVC_cntvt.fit(x_train_cntvt, y_train_cntvt)\n",
        "print('Training set accuracy:', SVC_cntvt.score(x_train_cntvt, y_train_cntvt))\n",
        "print('Test set accuracy:', SVC_cntvt.score(x_test_cntvt, y_test_cntvt))"
      ],
      "execution_count": 0,
      "outputs": [
        {
          "output_type": "stream",
          "text": [
            "CountVectorizer\n",
            "Training set accuracy: 0.7596508895602552\n",
            "Test set accuracy: 0.6769759450171822\n"
          ],
          "name": "stdout"
        }
      ]
    },
    {
      "metadata": {
        "id": "WliuBv4vYFYx",
        "colab_type": "code",
        "outputId": "d949342d-e6c0-4ac0-a6c5-1d029cb61969",
        "colab": {
          "base_uri": "https://localhost:8080/",
          "height": 1098
        }
      },
      "cell_type": "code",
      "source": [
        "# neural network model\n",
        "from keras.models import Sequential\n",
        "from keras.layers import Dense\n",
        "\n",
        "model_tfidf = Sequential()\n",
        "model_tfidf.add(Dense(1000, input_shape=(8000,), activation='relu'))\n",
        "model_tfidf.add(Dense(150, activation='relu'))\n",
        "model_tfidf.add(Dense(27, activation='softmax'))\n",
        "model_tfidf.compile(optimizer='adam', loss='sparse_categorical_crossentropy', metrics=['accuracy'])\n",
        "model_tfidf.fit(x_train_tfidf, y_train_tfidf, epochs = 10)\n",
        "\n",
        "print('NEURAL NETWORK')\n",
        "print('TF - IDF')\n",
        "test_tfidf_loss, test_tfidf_acc = model_tfidf.evaluate(x_test_tfidf, y_test_tfidf)\n",
        "print('Test set accuracy:', test_tfidf_acc)\n",
        "model_tfidf.save('gdrive/My Drive/mobile_tfidf_model.h5')\n"
      ],
      "execution_count": 0,
      "outputs": [
        {
          "output_type": "stream",
          "text": [
            "WARNING:tensorflow:From /usr/local/lib/python3.6/dist-packages/tensorflow/python/framework/op_def_library.py:263: colocate_with (from tensorflow.python.framework.ops) is deprecated and will be removed in a future version.\n",
            "Instructions for updating:\n",
            "Colocations handled automatically by placer.\n",
            "WARNING:tensorflow:From /usr/local/lib/python3.6/dist-packages/tensorflow/python/ops/math_ops.py:3066: to_int32 (from tensorflow.python.ops.math_ops) is deprecated and will be removed in a future version.\n",
            "Instructions for updating:\n",
            "Use tf.cast instead.\n",
            "Epoch 1/10\n",
            "175761/175761 [==============================] - 1546s 9ms/step - loss: 1.2335 - acc: 0.5928\n",
            "Epoch 2/10\n",
            "175761/175761 [==============================] - 1529s 9ms/step - loss: 0.9981 - acc: 0.6581\n",
            "Epoch 3/10\n",
            " 90432/175761 [==============>...............] - ETA: 11:43 - loss: 0.7561 - acc: 0.7332WARNING:tensorflow:From /usr/local/lib/python3.6/dist-packages/tensorflow/python/framework/op_def_library.py:263: colocate_with (from tensorflow.python.framework.ops) is deprecated and will be removed in a future version.\n",
            "Instructions for updating:\n",
            "Colocations handled automatically by placer.\n",
            "WARNING:tensorflow:From /usr/local/lib/python3.6/dist-packages/tensorflow/python/ops/math_ops.py:3066: to_int32 (from tensorflow.python.ops.math_ops) is deprecated and will be removed in a future version.\n",
            "Instructions for updating:\n",
            "Use tf.cast instead.\n",
            "Epoch 1/10\n",
            "175761/175761 [==============================] - 1546s 9ms/step - loss: 1.2335 - acc: 0.5928\n",
            "Epoch 2/10\n",
            "175761/175761 [==============================] - 1529s 9ms/step - loss: 0.9981 - acc: 0.6581\n",
            "Epoch 3/10\n",
            "175761/175761 [==============================] - 1502s 9ms/step - loss: 0.7734 - acc: 0.7289\n",
            "175761/175761 [==============================] - 1502s 9ms/step - loss: 0.7734 - acc: 0.7289\n",
            "Epoch 4/10\n",
            "Epoch 4/10\n",
            "175761/175761 [==============================] - 1578s 9ms/step - loss: 0.5225 - acc: 0.8182\n",
            "175761/175761 [==============================] - 1578s 9ms/step - loss: 0.5225 - acc: 0.8182\n",
            "Epoch 5/10\n",
            "Epoch 5/10\n",
            "175761/175761 [==============================] - 1577s 9ms/step - loss: 0.3478 - acc: 0.8819\n",
            "175761/175761 [==============================] - 1577s 9ms/step - loss: 0.3478 - acc: 0.8819\n",
            "Epoch 6/10\n",
            "Epoch 6/10\n",
            "175761/175761 [==============================] - 1612s 9ms/step - loss: 0.2576 - acc: 0.9127\n",
            "175761/175761 [==============================] - 1612s 9ms/step - loss: 0.2576 - acc: 0.9127\n",
            "Epoch 7/10\n",
            "Epoch 7/10\n",
            "175761/175761 [==============================] - 1479s 8ms/step - loss: 0.2105 - acc: 0.9271\n",
            "175761/175761 [==============================] - 1479s 8ms/step - loss: 0.2105 - acc: 0.9271\n",
            "Epoch 8/10\n",
            "Epoch 8/10\n",
            "175761/175761 [==============================] - 854s 5ms/step - loss: 0.1791 - acc: 0.9360\n",
            "175761/175761 [==============================] - 854s 5ms/step - loss: 0.1791 - acc: 0.9360\n",
            "Epoch 9/10\n",
            "Epoch 9/10\n",
            "175761/175761 [==============================] - 848s 5ms/step - loss: 0.1590 - acc: 0.9407\n",
            "175761/175761 [==============================] - 848s 5ms/step - loss: 0.1590 - acc: 0.9407\n",
            "Epoch 10/10\n",
            "Epoch 10/10\n",
            "175761/175761 [==============================] - 860s 5ms/step - loss: 0.1424 - acc: 0.9451\n",
            "175761/175761 [==============================] - 860s 5ms/step - loss: 0.1424 - acc: 0.9451\n",
            "NEURAL NETWORK\n",
            "TF - IDF\n",
            "   32/43941 [..............................] - ETA: 1:12NEURAL NETWORK\n",
            "TF - IDF\n",
            "43941/43941 [==============================] - 28s 642us/step\n",
            "43941/43941 [==============================] - 28s 642us/step\n",
            "Test set accuracy:Test set accuracy: 0.6129127693980385\n",
            " 0.6129127693980385\n"
          ],
          "name": "stdout"
        }
      ]
    },
    {
      "metadata": {
        "id": "K32Td7YQbAbU",
        "colab_type": "code",
        "outputId": "5e2e6b91-f45c-4595-89e8-e4e728e5ef24",
        "colab": {
          "base_uri": "https://localhost:8080/",
          "height": 153
        }
      },
      "cell_type": "code",
      "source": [
        "test = pd.read_csv('gdrive/My Drive/test.csv')\n",
        "test.info()"
      ],
      "execution_count": 0,
      "outputs": [
        {
          "output_type": "stream",
          "text": [
            "<class 'pandas.core.frame.DataFrame'>\n",
            "RangeIndex: 172402 entries, 0 to 172401\n",
            "Data columns (total 3 columns):\n",
            "itemid        172402 non-null int64\n",
            "title         172402 non-null object\n",
            "image_path    172402 non-null object\n",
            "dtypes: int64(1), object(2)\n",
            "memory usage: 3.9+ MB\n"
          ],
          "name": "stdout"
        }
      ]
    },
    {
      "metadata": {
        "id": "3gIhT9dPbQNs",
        "colab_type": "code",
        "outputId": "43a4688f-3f34-481a-bc14-21e690ad6e6e",
        "colab": {
          "base_uri": "https://localhost:8080/",
          "height": 34
        }
      },
      "cell_type": "code",
      "source": [
        "fashion_test = test[test['image_path'].apply(lambda x: x.startswith('fashion'))]"
      ],
      "execution_count": 0,
      "outputs": [
        {
          "output_type": "execute_result",
          "data": {
            "text/plain": [
              "(55440, 3)"
            ]
          },
          "metadata": {
            "tags": []
          },
          "execution_count": 20
        }
      ]
    },
    {
      "metadata": {
        "id": "ql2nRbCRbQQI",
        "colab_type": "code",
        "colab": {}
      },
      "cell_type": "code",
      "source": [
        "new_test_titles = fashion_test['title'].apply(lambda x: process_title(x, drop_words))"
      ],
      "execution_count": 0,
      "outputs": []
    },
    {
      "metadata": {
        "id": "3_q6sUweuDe4",
        "colab_type": "code",
        "colab": {}
      },
      "cell_type": "code",
      "source": [
        "x_test1 = tfidf.transform(new_test_titles)\n",
        "labels_tfidf = SVC_tfidf.predict(x_test1)\n",
        "labels_cntvt = SVC_tfidf.predict(x_test1)"
      ],
      "execution_count": 0,
      "outputs": []
    },
    {
      "metadata": {
        "id": "yzEtX4GBhURR",
        "colab_type": "code",
        "colab": {}
      },
      "cell_type": "code",
      "source": [
        "labels1 = labels_tfidf + 17\n",
        "labels2 = labels_cntvt + 17"
      ],
      "execution_count": 0,
      "outputs": []
    },
    {
      "metadata": {
        "id": "DLsroKWP9M3U",
        "colab_type": "code",
        "colab": {}
      },
      "cell_type": "code",
      "source": [
        "fashion_tfidf_submit = pd.DataFrame({'itemid':fashion_test['itemid'], 'Category': labels1}, columns=['itemid', 'Category'])\n",
        "fashion_cntvt_submit = pd.DataFrame({'itemid':fashion_test['itemid'], 'Category': labels2}, columns=['itemid', 'Category'])"
      ],
      "execution_count": 0,
      "outputs": []
    },
    {
      "metadata": {
        "id": "HazOcQj0h9Op",
        "colab_type": "code",
        "colab": {}
      },
      "cell_type": "code",
      "source": [
        "fashion_tfidf_submit.to_csv('fashion_tfidf_submit.csv')\n",
        "fashion_cntvt_submit.to_csv('fashion_cntvt_submit.csv')"
      ],
      "execution_count": 0,
      "outputs": []
    }
  ]
}